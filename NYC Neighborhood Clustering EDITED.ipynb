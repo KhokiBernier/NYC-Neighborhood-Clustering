{
 "cells": [
  {
   "cell_type": "markdown",
   "metadata": {},
   "source": [
    "# NYC Neighborhood Clustering\n",
    "\n",
    "# Overview of Steps\n",
    "\n",
    "1. Feature Engineering\n",
    "2. Outlier Analysis\n",
    "3. Clustering"
   ]
  },
  {
   "cell_type": "markdown",
   "metadata": {},
   "source": [
    "**Read in csv files containing NYC Neighborhood coordinates, population, and crime data**"
   ]
  },
  {
   "cell_type": "code",
   "execution_count": 1,
   "metadata": {},
   "outputs": [],
   "source": [
    "import pandas as pd\n",
    "import statistics\n",
    "import numpy as np\n",
    "\n",
    "df_coordinates = pd.read_csv('nynta.csv')\n",
    "nyc_pop_data = pd.read_csv('NYC Population Data.csv')\n",
    "df_crime = pd.read_csv('NYPD_Arrests_Data__Historic_.csv')"
   ]
  },
  {
   "cell_type": "code",
   "execution_count": 42,
   "metadata": {},
   "outputs": [
    {
     "data": {
      "text/html": [
       "<div>\n",
       "<style scoped>\n",
       "    .dataframe tbody tr th:only-of-type {\n",
       "        vertical-align: middle;\n",
       "    }\n",
       "\n",
       "    .dataframe tbody tr th {\n",
       "        vertical-align: top;\n",
       "    }\n",
       "\n",
       "    .dataframe thead th {\n",
       "        text-align: right;\n",
       "    }\n",
       "</style>\n",
       "<table border=\"1\" class=\"dataframe\">\n",
       "  <thead>\n",
       "    <tr style=\"text-align: right;\">\n",
       "      <th></th>\n",
       "      <th>BoroCode</th>\n",
       "      <th>CountyFIPS</th>\n",
       "      <th>the_geom</th>\n",
       "      <th>BoroName</th>\n",
       "      <th>NTACode</th>\n",
       "      <th>NTAName</th>\n",
       "      <th>Shape_Leng</th>\n",
       "      <th>Shape_Area</th>\n",
       "    </tr>\n",
       "  </thead>\n",
       "  <tbody>\n",
       "    <tr>\n",
       "      <th>0</th>\n",
       "      <td>3</td>\n",
       "      <td>47</td>\n",
       "      <td>MULTIPOLYGON (((-73.97604935657381 40.63127590...</td>\n",
       "      <td>Brooklyn</td>\n",
       "      <td>BK88</td>\n",
       "      <td>Borough Park</td>\n",
       "      <td>39247.227831</td>\n",
       "      <td>5.400502e+07</td>\n",
       "    </tr>\n",
       "    <tr>\n",
       "      <th>1</th>\n",
       "      <td>4</td>\n",
       "      <td>81</td>\n",
       "      <td>MULTIPOLYGON (((-73.80379022888246 40.77561011...</td>\n",
       "      <td>Queens</td>\n",
       "      <td>QN51</td>\n",
       "      <td>Murray Hill</td>\n",
       "      <td>33266.904872</td>\n",
       "      <td>5.248828e+07</td>\n",
       "    </tr>\n",
       "    <tr>\n",
       "      <th>2</th>\n",
       "      <td>4</td>\n",
       "      <td>81</td>\n",
       "      <td>MULTIPOLYGON (((-73.8610972440186 40.763664477...</td>\n",
       "      <td>Queens</td>\n",
       "      <td>QN27</td>\n",
       "      <td>East Elmhurst</td>\n",
       "      <td>19816.712132</td>\n",
       "      <td>1.972685e+07</td>\n",
       "    </tr>\n",
       "    <tr>\n",
       "      <th>3</th>\n",
       "      <td>3</td>\n",
       "      <td>47</td>\n",
       "      <td>MULTIPOLYGON (((-73.94826499590911 40.63860718...</td>\n",
       "      <td>Brooklyn</td>\n",
       "      <td>BK95</td>\n",
       "      <td>Erasmus</td>\n",
       "      <td>18756.701865</td>\n",
       "      <td>1.452260e+07</td>\n",
       "    </tr>\n",
       "    <tr>\n",
       "      <th>4</th>\n",
       "      <td>4</td>\n",
       "      <td>81</td>\n",
       "      <td>MULTIPOLYGON (((-73.75725671509139 40.71813860...</td>\n",
       "      <td>Queens</td>\n",
       "      <td>QN07</td>\n",
       "      <td>Hollis</td>\n",
       "      <td>20976.335600</td>\n",
       "      <td>2.288777e+07</td>\n",
       "    </tr>\n",
       "  </tbody>\n",
       "</table>\n",
       "</div>"
      ],
      "text/plain": [
       "   BoroCode  CountyFIPS                                           the_geom  \\\n",
       "0         3          47  MULTIPOLYGON (((-73.97604935657381 40.63127590...   \n",
       "1         4          81  MULTIPOLYGON (((-73.80379022888246 40.77561011...   \n",
       "2         4          81  MULTIPOLYGON (((-73.8610972440186 40.763664477...   \n",
       "3         3          47  MULTIPOLYGON (((-73.94826499590911 40.63860718...   \n",
       "4         4          81  MULTIPOLYGON (((-73.75725671509139 40.71813860...   \n",
       "\n",
       "   BoroName NTACode        NTAName    Shape_Leng    Shape_Area  \n",
       "0  Brooklyn    BK88   Borough Park  39247.227831  5.400502e+07  \n",
       "1    Queens    QN51    Murray Hill  33266.904872  5.248828e+07  \n",
       "2    Queens    QN27  East Elmhurst  19816.712132  1.972685e+07  \n",
       "3  Brooklyn    BK95        Erasmus  18756.701865  1.452260e+07  \n",
       "4    Queens    QN07         Hollis  20976.335600  2.288777e+07  "
      ]
     },
     "execution_count": 42,
     "metadata": {},
     "output_type": "execute_result"
    }
   ],
   "source": [
    "df_coordinates.head()"
   ]
  },
  {
   "cell_type": "markdown",
   "metadata": {},
   "source": [
    "# Step 1. Feature Engineering\n",
    "\n",
    "- Neighborhood Center Coordinates (Note: This feature is for Tableau Visualization)\n",
    "- Neighborhood Boarder Coordinates (Note: This feature is for Tableau Visualization)\n",
    "- Neighborhood Population\n",
    "- Crime Grouping\n",
    "- Crimes Per 1,000 Population"
   ]
  },
  {
   "cell_type": "markdown",
   "metadata": {},
   "source": [
    "**Neighborhood Center Coordinates (Note: This feature is for Tableau Visualization)**\n",
    "\n",
    "Find the center point of each neighborhood based on the boarder coordinates from 'the_geom' column"
   ]
  },
  {
   "cell_type": "code",
   "execution_count": 2,
   "metadata": {},
   "outputs": [],
   "source": [
    "lat_center = []\n",
    "long_center = []\n",
    "\n",
    "for a in df_coordinates.the_geom:\n",
    "    cord = []\n",
    "    coordinates = []\n",
    "    v=''\n",
    "    for i in a[16:-3].replace(', -',',-'):\n",
    "        v = v+i\n",
    "        if i == ' ':\n",
    "            v1=v\n",
    "            v = ''\n",
    "        if i == ',':\n",
    "            v2=v.replace(',','')\n",
    "            v=''\n",
    "            coordinates.append((v1,v2))\n",
    "\n",
    "    latitude = []\n",
    "    longitude = []\n",
    "    ctr = 0\n",
    "    for i in coordinates:\n",
    "        latitude.append(i[1])\n",
    "        longitude.append(i[0])\n",
    "        ctr+=1      \n",
    "    \n",
    "    longitude_float = []\n",
    "    for i in longitude:\n",
    "        i = i.replace('(','')\n",
    "        i = i.replace(')','')\n",
    "        longitude_float.append(float(i))\n",
    "        \n",
    "    latitude_float = []\n",
    "    for i in latitude:\n",
    "        i = i.replace('(','')\n",
    "        i = i.replace(')','')\n",
    "        latitude_float.append(float(i))\n",
    "    \n",
    "    #CENTER POINT\n",
    "    lat = statistics.mean(latitude_float)\n",
    "    long = statistics.mean(longitude_float)\n",
    "    \n",
    "    lat_center.append(lat)\n",
    "    long_center.append(long)\n",
    "\n",
    "df_coordinates['Latitude_Center'] = lat_center\n",
    "df_coordinates['Longitude_Center'] = long_center"
   ]
  },
  {
   "cell_type": "markdown",
   "metadata": {},
   "source": [
    "**Neighborhood Boarder Coordinates (Note: This feature is for Tableau Visualization)**\n",
    "\n",
    "Find the boarder coordinates of each neighborhood"
   ]
  },
  {
   "cell_type": "code",
   "execution_count": 3,
   "metadata": {},
   "outputs": [],
   "source": [
    "lat_list = []\n",
    "long_list = []\n",
    "neighbs = []\n",
    "ctr_long = 0\n",
    "ctr_lat = 0\n",
    "\n",
    "for a, b in df_coordinates[['the_geom','NTACode']].itertuples(index=False):\n",
    "        cord = []\n",
    "        coordinates = []\n",
    "        v=''\n",
    "        for i in a[16:-3].replace(', -',',-'):\n",
    "            v = v+i\n",
    "            if i == ' ':\n",
    "                v1=v\n",
    "                v = ''\n",
    "            if i == ',':\n",
    "                v2=v.replace(',','')\n",
    "                v=''\n",
    "                coordinates.append((v1,v2))\n",
    "\n",
    "        latitude = []\n",
    "        longitude = []\n",
    "        ctr = 0\n",
    "        for i in coordinates:\n",
    "            latitude.append(i[1])\n",
    "            longitude.append(i[0])\n",
    "            ctr+=1      \n",
    "\n",
    "        longitude_float = []\n",
    "        for i in longitude:\n",
    "            #REMOVE EVERY 4th COORDINATE TO PRESERVE SIZE\n",
    "            if ctr_long % 2 != 0:\n",
    "                i = i.replace('(','')\n",
    "                i = i.replace(')','')\n",
    "                long_list.append(float(i))\n",
    "                neighbs.append(b)\n",
    "            ctr_long+=1\n",
    "\n",
    "        latitude_float = []\n",
    "        for i in latitude:\n",
    "            #REMOVE EVERY 4th COORDINATE TO PRESERVE SIZE\n",
    "            if ctr_lat % 2 != 0:\n",
    "                i = i.replace('(','')\n",
    "                i = i.replace(')','')\n",
    "                latitude_float.append(float(i))\n",
    "                lat_list.append(float(i))\n",
    "            ctr_lat+=1\n",
    "\n",
    "        lat = latitude_float\n",
    "        long = longitude_float\n",
    "        ctr+=1\n",
    "    "
   ]
  },
  {
   "cell_type": "code",
   "execution_count": 4,
   "metadata": {},
   "outputs": [
    {
     "data": {
      "text/plain": [
       "56338"
      ]
     },
     "execution_count": 4,
     "metadata": {},
     "output_type": "execute_result"
    }
   ],
   "source": [
    "len(lat_list)"
   ]
  },
  {
   "cell_type": "code",
   "execution_count": 5,
   "metadata": {},
   "outputs": [],
   "source": [
    "df_boarders = pd.DataFrame()\n",
    "df_boarders['Latitude'] = lat_list\n",
    "df_boarders['Longitude'] = long_list\n",
    "df_boarders['NTACode'] = neighbs"
   ]
  },
  {
   "cell_type": "code",
   "execution_count": 6,
   "metadata": {},
   "outputs": [],
   "source": [
    "neighborhood_map = pd.merge(df_coordinates[['NTAName','NTACode','BoroName','Latitude_Center','Longitude_Center']], df_boarders, how='inner',left_on=['NTACode'],right_on=['NTACode'])"
   ]
  },
  {
   "cell_type": "markdown",
   "metadata": {},
   "source": [
    "**Neighborhood Population**\n",
    "\n",
    "Map NYC Population to Neighborhoods"
   ]
  },
  {
   "cell_type": "code",
   "execution_count": 7,
   "metadata": {},
   "outputs": [],
   "source": [
    "nyc_pop_data = nyc_pop_data.rename(columns={'NTA Code':'NTACode'})\n",
    "\n",
    "neighborhood_map_pop = pd.merge(neighborhood_map, nyc_pop_data[nyc_pop_data.Year == 2010][['NTACode','Population']], how='inner',left_on=['NTACode'],right_on=['NTACode'])"
   ]
  },
  {
   "cell_type": "markdown",
   "metadata": {},
   "source": [
    "Clean and Engineer Crime Dataset"
   ]
  },
  {
   "cell_type": "code",
   "execution_count": 8,
   "metadata": {},
   "outputs": [],
   "source": [
    "df_crime.ARREST_DATE = pd.to_datetime(df_crime.ARREST_DATE)\n",
    "df_crime = df_crime[df_crime.ARREST_DATE.dt.year >= 2017]"
   ]
  },
  {
   "cell_type": "code",
   "execution_count": 9,
   "metadata": {},
   "outputs": [
    {
     "data": {
      "text/plain": [
       "False"
      ]
     },
     "execution_count": 9,
     "metadata": {},
     "output_type": "execute_result"
    }
   ],
   "source": [
    "df_crime.Latitude = df_crime.Latitude.astype(float)\n",
    "df_crime.Longitude = df_crime.Longitude.astype(float)\n",
    "\n",
    "df_crime.Latitude = df_crime.Latitude.replace([np.inf, -np.inf], np.nan)\n",
    "df_crime.Longitude = df_crime.Longitude.replace([np.inf, -np.inf], np.nan)\n",
    "\n",
    "df_crime.Latitude = df_crime.Latitude.dropna()\n",
    "df_crime.Longitude = df_crime.Longitude.dropna()\n",
    "\n",
    "df_crime.Latitude.isna().any()"
   ]
  },
  {
   "cell_type": "markdown",
   "metadata": {},
   "source": [
    "**Crime Grouping**"
   ]
  },
  {
   "cell_type": "code",
   "execution_count": 10,
   "metadata": {},
   "outputs": [],
   "source": [
    "violent = ['MURDER & NON-NEGL. MANSLAUGHTER','HOMICIDE-NEGLIGENT-VEHICLE', 'MURDER & NON-NEGL. MANSLAUGHTE',\n",
    "    'HOMICIDE-NEGLIGENT,UNCLASSIFIED','HOMICIDE-NEGLIGENT-VEHICLE','HOMICIDE-NEGLIGENT,UNCLASSIFIE', \n",
    "    'FELONY ASSAULT', 'ASSAULT 3 & RELATED OFFENSES','JOSTLING', 'RAPE','SEX CRIMES','FORCIBLE TOUCHING',\n",
    "    'ROBBERY','OFFENSES RELATED TO CHILDREN','KIDNAPPING & RELATED OFFENSES','KIDNAPPING']\n",
    "\n",
    "traffic = ['OTHER TRAFFIC INFRACTION','VEHICLE AND TRAFFIC LAWS','INTOXICATED & IMPAIRED DRIVING',\n",
    "           'INTOXICATED/IMPAIRED DRIVING','UNAUTHORIZED USE OF A VEHICLE 3 (UUV)','PARKING OFFENSES',\n",
    "           'UNAUTHORIZED USE OF A VEHICLE']\n",
    "\n",
    "non_violent = ['THEFT-FRAUD','FORGERY','FRAUDS','OFFENSES INVOLVING FRAUD','FRAUDULENT ACCOSTING','ARSON',\n",
    "               'CRIMINAL TRESPASS','DANGEROUS WEAPONS','UNLAWFUL POSS. WEAP. ON SCHOOL GROUNDS',\n",
    "               'UNLAWFUL POSS. WEAP. ON SCHOOL','Tresspassing','HARRASSMENT 2','OFFENSES AGAINST PUBLIC SAFETY',\n",
    "               'HARASSMENT','PROSTITUTION & RELATED OFFENSES']\n",
    "\n",
    "theft = ['GRAND LARCENY','PETIT LARCENY','OTHER OFFENSES RELATED TO THEF','THEFT OF SERVICES',\n",
    "         'OTHER OFFENSES RELATED TO THEFT', 'PETIT LARCENY','GRAND LARCENY OF MOTOR VEHICLE',\n",
    "         'POSSESSION OF STOLEN PROPERTY','POSSESSION OF STOLEN PROPERTY 5','BURGLARY']\n",
    "\n",
    "drugs = ['DANGEROUS DRUGS','LOITERING FOR DRUG PURPOSES']\n",
    "\n",
    "crime_group = []\n",
    "\n",
    "for i in df_crime.OFNS_DESC:\n",
    "    if (i in violent) == True:\n",
    "        crime_group.append('Violent')\n",
    "    elif (i in non_violent) == True:\n",
    "        crime_group.append('Non Violent')\n",
    "    elif (i in traffic) == True:\n",
    "        crime_group.append('Traffic')\n",
    "    elif (i in theft) == True:\n",
    "        crime_group.append('Theft')\n",
    "    elif (i in drugs) == True:\n",
    "        crime_group.append('Drug')\n",
    "    else:\n",
    "        crime_group.append('Non Violent')\n",
    "        \n",
    "df_crime['Crime Group'] = crime_group               \n"
   ]
  },
  {
   "cell_type": "code",
   "execution_count": 11,
   "metadata": {},
   "outputs": [
    {
     "data": {
      "text/plain": [
       "Crime Group\n",
       "Drug           102300\n",
       "Non Violent    213924\n",
       "Theft          154277\n",
       "Traffic         86175\n",
       "Violent        190939\n",
       "Name: ARREST_KEY, dtype: int64"
      ]
     },
     "execution_count": 11,
     "metadata": {},
     "output_type": "execute_result"
    }
   ],
   "source": [
    "df_crime.groupby('Crime Group')['ARREST_KEY'].count()"
   ]
  },
  {
   "cell_type": "markdown",
   "metadata": {},
   "source": [
    "**Map Crime location to nearest neighborhood based on coordinates**\n",
    "\n",
    "Function to calculate minimum euqlidean distance between coordinates"
   ]
  },
  {
   "cell_type": "code",
   "execution_count": 12,
   "metadata": {},
   "outputs": [],
   "source": [
    "from math import sqrt\n",
    "\n",
    "def euqli_dist(p, q):\n",
    "    return sqrt(((p[0] - q[0]) ** 2) + ((p[1] - q[1]) ** 2))\n",
    "\n",
    "def closest(cur_pos, positions):\n",
    "    low_dist = float('inf')\n",
    "    closest_pos = None\n",
    "    for pos in positions:\n",
    "        dist = euqli_dist(cur_pos,pos)\n",
    "        if dist < low_dist:\n",
    "            low_dist = dist\n",
    "            closest_pos = pos\n",
    "    return closest_pos"
   ]
  },
  {
   "cell_type": "markdown",
   "metadata": {},
   "source": [
    "Here, we are essentially partitioning our coordinates by Borough.\n",
    "\n",
    "This will improve the speed of our coordinate mapping by over 3.5x"
   ]
  },
  {
   "cell_type": "code",
   "execution_count": 13,
   "metadata": {},
   "outputs": [],
   "source": [
    "manhattan_coordinates = []\n",
    "for lat, long in neighborhood_map_pop[neighborhood_map_pop.BoroName == 'Manhattan'][['Latitude','Longitude']].itertuples(index=False):\n",
    "    manhattan_coordinates.append((lat,long))\n",
    "    \n",
    "brooklyn_coordinates = []\n",
    "for lat, long in neighborhood_map_pop[neighborhood_map_pop.BoroName == 'Brooklyn'][['Latitude','Longitude']].itertuples(index=False):\n",
    "    brooklyn_coordinates.append((lat,long))\n",
    "    \n",
    "bronx_coordinates = []\n",
    "for lat, long in neighborhood_map_pop[neighborhood_map_pop.BoroName == 'Bronx'][['Latitude','Longitude']].itertuples(index=False):\n",
    "    bronx_coordinates.append((lat,long))    \n",
    "    \n",
    "queens_coordinates = []\n",
    "for lat, long in neighborhood_map_pop[neighborhood_map_pop.BoroName == 'Queens'][['Latitude','Longitude']].itertuples(index=False):\n",
    "    queens_coordinates.append((lat,long))\n",
    "    \n",
    "staten_island_coordinates = []\n",
    "for lat, long in neighborhood_map_pop[neighborhood_map_pop.BoroName == 'Staten Island'][['Latitude','Longitude']].itertuples(index=False):\n",
    "    staten_island_coordinates.append((lat,long))\n"
   ]
  },
  {
   "cell_type": "code",
   "execution_count": 14,
   "metadata": {},
   "outputs": [
    {
     "name": "stdout",
     "output_type": "stream",
     "text": [
      "2020-10-16 14:28:37.140968\n",
      "100000\n",
      "2020-10-16 14:40:58.176044\n",
      "200000\n",
      "2020-10-16 14:52:41.053459\n",
      "300000\n",
      "2020-10-16 15:04:10.176629\n",
      "400000\n",
      "2020-10-16 15:15:31.655354\n",
      "500000\n",
      "2020-10-16 15:27:04.586427\n",
      "600000\n",
      "2020-10-16 15:38:40.479879\n",
      "700000\n",
      "2020-10-16 15:50:27.870824\n"
     ]
    }
   ],
   "source": [
    "from datetime import datetime\n",
    "    \n",
    "neighborhood_list = []\n",
    "tracker = 1\n",
    "print(datetime.now(tz=None))\n",
    "\n",
    "for row in df_crime[['Latitude','Longitude', 'ARREST_BORO']].itertuples(index=False):\n",
    "    if row.ARREST_BORO == 'M':\n",
    "        coordinates = manhattan_coordinates\n",
    "    elif row.ARREST_BORO == 'K':\n",
    "        coordinates = brooklyn_coordinates\n",
    "    elif row.ARREST_BORO == 'B':\n",
    "        coordinates = bronx_coordinates\n",
    "    elif row.ARREST_BORO == 'Q':\n",
    "        coordinates = queens_coordinates\n",
    "    elif row.ARREST_BORO == 'S':\n",
    "        coordinates = staten_island_coordinates\n",
    "        \n",
    "    point = (row.Latitude,row.Longitude)\n",
    "    closest_point = closest(point, coordinates)\n",
    "    ind = neighborhood_map_pop[(neighborhood_map_pop['Latitude'] == closest_point[0]) & (neighborhood_map_pop['Longitude'] == closest_point[1])].NTAName.values[0]\n",
    "    neighborhood_list.append(ind)\n",
    "    tracker+=1\n",
    "    \n",
    "    if tracker % 100000 == 0:\n",
    "        print(tracker)\n",
    "        print(datetime.now(tz=None))"
   ]
  },
  {
   "cell_type": "markdown",
   "metadata": {},
   "source": [
    "Add Neighborhoods to our crime data, and merge with Neighborhood dataframe"
   ]
  },
  {
   "cell_type": "code",
   "execution_count": 15,
   "metadata": {},
   "outputs": [
    {
     "data": {
      "text/plain": [
       "195"
      ]
     },
     "execution_count": 15,
     "metadata": {},
     "output_type": "execute_result"
    }
   ],
   "source": [
    "df_crime['Neighborhood']=neighborhood_list\n",
    "df_crime.Neighborhood.nunique()"
   ]
  },
  {
   "cell_type": "code",
   "execution_count": 16,
   "metadata": {},
   "outputs": [],
   "source": [
    "data = pd.merge(df_crime[['ARREST_DATE', 'Crime Group', 'Neighborhood']], neighborhood_map_pop[['NTAName','BoroName','Population']].drop_duplicates(), how='inner',left_on=['Neighborhood'],right_on=['NTAName'])"
   ]
  },
  {
   "cell_type": "code",
   "execution_count": 17,
   "metadata": {},
   "outputs": [],
   "source": [
    "data = data.drop(['NTAName'],axis=1)\n",
    "data = data.rename(columns={'BoroName':'Borough','Crime Group':'Crime_Group','ARREST_DATE':'Arrest_Date'})"
   ]
  },
  {
   "cell_type": "markdown",
   "metadata": {},
   "source": [
    "Data Preprocessing: Pivot Data"
   ]
  },
  {
   "cell_type": "code",
   "execution_count": 18,
   "metadata": {},
   "outputs": [],
   "source": [
    "crime_pvt = data[['Crime_Group','Neighborhood','Borough']].pivot_table(index='Neighborhood', columns='Crime_Group', values= 'Borough', aggfunc='count')"
   ]
  },
  {
   "cell_type": "code",
   "execution_count": 19,
   "metadata": {},
   "outputs": [],
   "source": [
    "data_pivoted = crime_pvt.join(data[['Neighborhood','Population']].drop_duplicates().groupby('Neighborhood')['Population'].sum())"
   ]
  },
  {
   "cell_type": "markdown",
   "metadata": {},
   "source": [
    "**Crimes Per 1,000 Population**\n",
    "\n",
    "Convert Crimes to Crimes Per 1,000 population"
   ]
  },
  {
   "cell_type": "code",
   "execution_count": 20,
   "metadata": {},
   "outputs": [],
   "source": [
    "data_pivoted['qoutient'] = data_pivoted['Population'] / 1000\n",
    "\n",
    "cols = ['Non Violent','Theft','Violent','Drug','Traffic'] \n",
    "\n",
    "for col in cols:\n",
    "    data_pivoted[col] = data_pivoted[col] / data_pivoted.qoutient"
   ]
  },
  {
   "cell_type": "code",
   "execution_count": 21,
   "metadata": {},
   "outputs": [],
   "source": [
    "data_pivoted = data_pivoted.replace([np.inf, -np.inf], np.nan)\n",
    "data_pivoted = data_pivoted.dropna()"
   ]
  },
  {
   "cell_type": "markdown",
   "metadata": {},
   "source": [
    "# Step 2. Outlier Analysis"
   ]
  },
  {
   "cell_type": "code",
   "execution_count": 23,
   "metadata": {
    "scrolled": true
   },
   "outputs": [
    {
     "data": {
      "image/png": "[encoded data removed]",
      "text/plain": [
       "<Figure size 432x288 with 1 Axes>"
      ]
     },
     "metadata": {
      "needs_background": "light"
     },
     "output_type": "display_data"
    },
    {
     "data": {
      "image/png": "[encoded data removed]",
      "text/plain": [
       "<Figure size 432x288 with 1 Axes>"
      ]
     },
     "metadata": {
      "needs_background": "light"
     },
     "output_type": "display_data"
    },
    {
     "data": {
      "image/png": "[encoded data removed]",
      "text/plain": [
       "<Figure size 432x288 with 1 Axes>"
      ]
     },
     "metadata": {
      "needs_background": "light"
     },
     "output_type": "display_data"
    },
    {
     "data": {
      "image/png": "[encoded data removed]",
      "text/plain": [
       "<Figure size 432x288 with 1 Axes>"
      ]
     },
     "metadata": {
      "needs_background": "light"
     },
     "output_type": "display_data"
    },
    {
     "data": {
      "image/png": "[encoded data removed]",
      "text/plain": [
       "<Figure size 432x288 with 1 Axes>"
      ]
     },
     "metadata": {
      "needs_background": "light"
     },
     "output_type": "display_data"
    }
   ],
   "source": [
    "import matplotlib.pyplot as plt\n",
    "\n",
    "%matplotlib inline\n",
    "\n",
    "for col in cols:\n",
    "    plt.title(col)\n",
    "    plt.scatter(data_pivoted.Population, data_pivoted[col])\n",
    "    plt.show()"
   ]
  },
  {
   "cell_type": "markdown",
   "metadata": {},
   "source": [
    "Removing Outliers"
   ]
  },
  {
   "cell_type": "code",
   "execution_count": 24,
   "metadata": {
    "scrolled": true
   },
   "outputs": [
    {
     "data": {
      "image/png": "[encoded data removed]",
      "text/plain": [
       "<Figure size 432x288 with 1 Axes>"
      ]
     },
     "metadata": {
      "needs_background": "light"
     },
     "output_type": "display_data"
    },
    {
     "data": {
      "image/png": "[encoded data removed]",
      "text/plain": [
       "<Figure size 432x288 with 1 Axes>"
      ]
     },
     "metadata": {
      "needs_background": "light"
     },
     "output_type": "display_data"
    },
    {
     "data": {
      "image/png": "[encoded data removed]",
      "text/plain": [
       "<Figure size 432x288 with 1 Axes>"
      ]
     },
     "metadata": {
      "needs_background": "light"
     },
     "output_type": "display_data"
    },
    {
     "data": {
      "image/png": "[encoded data removed]",
      "text/plain": [
       "<Figure size 432x288 with 1 Axes>"
      ]
     },
     "metadata": {
      "needs_background": "light"
     },
     "output_type": "display_data"
    },
    {
     "data": {
      "image/png": "[encoded data removed]",
      "text/plain": [
       "<Figure size 432x288 with 1 Axes>"
      ]
     },
     "metadata": {
      "needs_background": "light"
     },
     "output_type": "display_data"
    }
   ],
   "source": [
    "for col in cols:\n",
    "    plt.title(col)\n",
    "    plt.scatter(data_pivoted[data_pivoted['Non Violent'] < 500].Population, data_pivoted[data_pivoted['Non Violent'] < 500][col])\n",
    "    plt.show()"
   ]
  },
  {
   "cell_type": "markdown",
   "metadata": {},
   "source": [
    "Only 5 out of 193 neighborhoods were outliers (~2.5%)"
   ]
  },
  {
   "cell_type": "code",
   "execution_count": 25,
   "metadata": {},
   "outputs": [
    {
     "data": {
      "text/html": [
       "<div>\n",
       "<style scoped>\n",
       "    .dataframe tbody tr th:only-of-type {\n",
       "        vertical-align: middle;\n",
       "    }\n",
       "\n",
       "    .dataframe tbody tr th {\n",
       "        vertical-align: top;\n",
       "    }\n",
       "\n",
       "    .dataframe thead th {\n",
       "        text-align: right;\n",
       "    }\n",
       "</style>\n",
       "<table border=\"1\" class=\"dataframe\">\n",
       "  <thead>\n",
       "    <tr style=\"text-align: right;\">\n",
       "      <th></th>\n",
       "      <th>Drug</th>\n",
       "      <th>Non Violent</th>\n",
       "      <th>Theft</th>\n",
       "      <th>Traffic</th>\n",
       "      <th>Violent</th>\n",
       "      <th>Population</th>\n",
       "      <th>qoutient</th>\n",
       "    </tr>\n",
       "    <tr>\n",
       "      <th>Neighborhood</th>\n",
       "      <th></th>\n",
       "      <th></th>\n",
       "      <th></th>\n",
       "      <th></th>\n",
       "      <th></th>\n",
       "      <th></th>\n",
       "      <th></th>\n",
       "    </tr>\n",
       "  </thead>\n",
       "  <tbody>\n",
       "    <tr>\n",
       "      <th>Allerton-Pelham Gardens</th>\n",
       "      <td>7.853856</td>\n",
       "      <td>45.427810</td>\n",
       "      <td>19.271356</td>\n",
       "      <td>17.610629</td>\n",
       "      <td>50.375394</td>\n",
       "      <td>28903</td>\n",
       "      <td>28.903</td>\n",
       "    </tr>\n",
       "    <tr>\n",
       "      <th>Annadale-Huguenot-Prince's Bay-Eltingville</th>\n",
       "      <td>6.769896</td>\n",
       "      <td>5.329492</td>\n",
       "      <td>1.440403</td>\n",
       "      <td>9.074541</td>\n",
       "      <td>3.204897</td>\n",
       "      <td>27770</td>\n",
       "      <td>27.770</td>\n",
       "    </tr>\n",
       "    <tr>\n",
       "      <th>Arden Heights</th>\n",
       "      <td>5.428322</td>\n",
       "      <td>5.071717</td>\n",
       "      <td>1.545289</td>\n",
       "      <td>7.647199</td>\n",
       "      <td>2.813218</td>\n",
       "      <td>25238</td>\n",
       "      <td>25.238</td>\n",
       "    </tr>\n",
       "    <tr>\n",
       "      <th>Astoria</th>\n",
       "      <td>2.195627</td>\n",
       "      <td>3.502849</td>\n",
       "      <td>1.548361</td>\n",
       "      <td>2.957115</td>\n",
       "      <td>3.084030</td>\n",
       "      <td>78793</td>\n",
       "      <td>78.793</td>\n",
       "    </tr>\n",
       "    <tr>\n",
       "      <th>Auburndale</th>\n",
       "      <td>2.300460</td>\n",
       "      <td>4.700940</td>\n",
       "      <td>6.601320</td>\n",
       "      <td>4.150830</td>\n",
       "      <td>4.050810</td>\n",
       "      <td>19996</td>\n",
       "      <td>19.996</td>\n",
       "    </tr>\n",
       "    <tr>\n",
       "      <th>...</th>\n",
       "      <td>...</td>\n",
       "      <td>...</td>\n",
       "      <td>...</td>\n",
       "      <td>...</td>\n",
       "      <td>...</td>\n",
       "      <td>...</td>\n",
       "      <td>...</td>\n",
       "    </tr>\n",
       "    <tr>\n",
       "      <th>Windsor Terrace</th>\n",
       "      <td>3.097008</td>\n",
       "      <td>7.956928</td>\n",
       "      <td>3.049362</td>\n",
       "      <td>5.431675</td>\n",
       "      <td>8.052220</td>\n",
       "      <td>20988</td>\n",
       "      <td>20.988</td>\n",
       "    </tr>\n",
       "    <tr>\n",
       "      <th>Woodhaven</th>\n",
       "      <td>14.133465</td>\n",
       "      <td>17.062498</td>\n",
       "      <td>8.769453</td>\n",
       "      <td>6.510922</td>\n",
       "      <td>10.551576</td>\n",
       "      <td>56674</td>\n",
       "      <td>56.674</td>\n",
       "    </tr>\n",
       "    <tr>\n",
       "      <th>Woodlawn-Wakefield</th>\n",
       "      <td>8.215051</td>\n",
       "      <td>19.372455</td>\n",
       "      <td>8.144434</td>\n",
       "      <td>10.286468</td>\n",
       "      <td>17.418732</td>\n",
       "      <td>42483</td>\n",
       "      <td>42.483</td>\n",
       "    </tr>\n",
       "    <tr>\n",
       "      <th>Woodside</th>\n",
       "      <td>4.523382</td>\n",
       "      <td>10.776292</td>\n",
       "      <td>3.902526</td>\n",
       "      <td>4.878157</td>\n",
       "      <td>9.179804</td>\n",
       "      <td>45099</td>\n",
       "      <td>45.099</td>\n",
       "    </tr>\n",
       "    <tr>\n",
       "      <th>Yorkville</th>\n",
       "      <td>2.065639</td>\n",
       "      <td>3.746376</td>\n",
       "      <td>2.899592</td>\n",
       "      <td>2.707141</td>\n",
       "      <td>3.810526</td>\n",
       "      <td>77942</td>\n",
       "      <td>77.942</td>\n",
       "    </tr>\n",
       "  </tbody>\n",
       "</table>\n",
       "<p>188 rows × 7 columns</p>\n",
       "</div>"
      ],
      "text/plain": [
       "                                                 Drug  Non Violent      Theft  \\\n",
       "Neighborhood                                                                    \n",
       "Allerton-Pelham Gardens                      7.853856    45.427810  19.271356   \n",
       "Annadale-Huguenot-Prince's Bay-Eltingville   6.769896     5.329492   1.440403   \n",
       "Arden Heights                                5.428322     5.071717   1.545289   \n",
       "Astoria                                      2.195627     3.502849   1.548361   \n",
       "Auburndale                                   2.300460     4.700940   6.601320   \n",
       "...                                               ...          ...        ...   \n",
       "Windsor Terrace                              3.097008     7.956928   3.049362   \n",
       "Woodhaven                                   14.133465    17.062498   8.769453   \n",
       "Woodlawn-Wakefield                           8.215051    19.372455   8.144434   \n",
       "Woodside                                     4.523382    10.776292   3.902526   \n",
       "Yorkville                                    2.065639     3.746376   2.899592   \n",
       "\n",
       "                                              Traffic    Violent  Population  \\\n",
       "Neighborhood                                                                   \n",
       "Allerton-Pelham Gardens                     17.610629  50.375394       28903   \n",
       "Annadale-Huguenot-Prince's Bay-Eltingville   9.074541   3.204897       27770   \n",
       "Arden Heights                                7.647199   2.813218       25238   \n",
       "Astoria                                      2.957115   3.084030       78793   \n",
       "Auburndale                                   4.150830   4.050810       19996   \n",
       "...                                               ...        ...         ...   \n",
       "Windsor Terrace                              5.431675   8.052220       20988   \n",
       "Woodhaven                                    6.510922  10.551576       56674   \n",
       "Woodlawn-Wakefield                          10.286468  17.418732       42483   \n",
       "Woodside                                     4.878157   9.179804       45099   \n",
       "Yorkville                                    2.707141   3.810526       77942   \n",
       "\n",
       "                                            qoutient  \n",
       "Neighborhood                                          \n",
       "Allerton-Pelham Gardens                       28.903  \n",
       "Annadale-Huguenot-Prince's Bay-Eltingville    27.770  \n",
       "Arden Heights                                 25.238  \n",
       "Astoria                                       78.793  \n",
       "Auburndale                                    19.996  \n",
       "...                                              ...  \n",
       "Windsor Terrace                               20.988  \n",
       "Woodhaven                                     56.674  \n",
       "Woodlawn-Wakefield                            42.483  \n",
       "Woodside                                      45.099  \n",
       "Yorkville                                     77.942  \n",
       "\n",
       "[188 rows x 7 columns]"
      ]
     },
     "execution_count": 25,
     "metadata": {},
     "output_type": "execute_result"
    }
   ],
   "source": [
    "data_pivoted[data_pivoted['Non Violent'] < 500]"
   ]
  },
  {
   "cell_type": "markdown",
   "metadata": {},
   "source": [
    "# Step 3. Clustering"
   ]
  },
  {
   "cell_type": "code",
   "execution_count": 27,
   "metadata": {},
   "outputs": [
    {
     "data": {
      "text/html": [
       "        <script type=\"text/javascript\">\n",
       "        window.PlotlyConfig = {MathJaxConfig: 'local'};\n",
       "        if (window.MathJax) {MathJax.Hub.Config({SVG: {font: \"STIX-Web\"}});}\n",
       "        if (typeof require !== 'undefined') {\n",
       "        require.undef(\"plotly\");\n",
       "        requirejs.config({\n",
       "            paths: {\n",
       "                'plotly': ['https://cdn.plot.ly/plotly-latest.min']\n",
       "            }\n",
       "        });\n",
       "        require(['plotly'], function(Plotly) {\n",
       "            window._Plotly = Plotly;\n",
       "        });\n",
       "        }\n",
       "        </script>\n",
       "        "
      ]
     },
     "metadata": {},
     "output_type": "display_data"
    }
   ],
   "source": [
    "import matplotlib.pyplot as plt \n",
    "import seaborn as sns \n",
    "import plotly as py\n",
    "import plotly.graph_objs as go\n",
    "from sklearn.cluster import KMeans\n",
    "import warnings\n",
    "import os\n",
    "from sklearn import preprocessing\n",
    "warnings.filterwarnings(\"ignore\")\n",
    "py.offline.init_notebook_mode(connected = True)"
   ]
  },
  {
   "cell_type": "markdown",
   "metadata": {},
   "source": [
    "Feature Selection"
   ]
  },
  {
   "cell_type": "code",
   "execution_count": 26,
   "metadata": {},
   "outputs": [],
   "source": [
    "features = pd.DataFrame(data_pivoted[data_pivoted['Non Violent'] < 500][['Non Violent','Theft','Violent','Drug','Traffic','Population']])\n",
    "df_clustered = features.copy()"
   ]
  },
  {
   "cell_type": "code",
   "execution_count": 28,
   "metadata": {},
   "outputs": [],
   "source": [
    "features_standardized = preprocessing.scale(features)\n",
    "features_standardized = pd.DataFrame(features_standardized)"
   ]
  },
  {
   "cell_type": "code",
   "execution_count": 29,
   "metadata": {},
   "outputs": [
    {
     "data": {
      "image/png": "[encoded data removed]",
      "text/plain": [
       "<Figure size 720x576 with 1 Axes>"
      ]
     },
     "metadata": {
      "needs_background": "light"
     },
     "output_type": "display_data"
    }
   ],
   "source": [
    "plt.figure(figsize=(10, 8))\n",
    "wcss = []\n",
    "for i in range(1, 15):\n",
    "    kmeans = KMeans(n_clusters = i, init = 'k-means++')\n",
    "    kmeans.fit(features_standardized)\n",
    "    wcss.append(kmeans.inertia_) #criterion based on which K-means clustering works\n",
    "plt.plot(range(1, 15), wcss)\n",
    "plt.title('The Elbow Method')\n",
    "plt.xlabel('Number of clusters')\n",
    "plt.ylabel('WCSS')\n",
    "plt.show()"
   ]
  },
  {
   "cell_type": "code",
   "execution_count": 30,
   "metadata": {},
   "outputs": [],
   "source": [
    "# Fitting K-Means to the dataset\n",
    "kmeans = KMeans(n_clusters = 6, init = 'k-means++', random_state = 42)\n",
    "y_kmeans = kmeans.fit_predict(features_standardized)"
   ]
  },
  {
   "cell_type": "code",
   "execution_count": 31,
   "metadata": {},
   "outputs": [],
   "source": [
    "#beginning of  the cluster numbering with 1 instead of 0\n",
    "y_kmeans1=y_kmeans+1\n",
    "# New list called cluster\n",
    "cluster = list(y_kmeans1)\n",
    "# Adding cluster to our data set\n",
    "df_clustered['Cluster']=cluster"
   ]
  },
  {
   "cell_type": "code",
   "execution_count": 32,
   "metadata": {},
   "outputs": [
    {
     "data": {
      "text/plain": [
       "Cluster\n",
       "1    25\n",
       "2    69\n",
       "3    59\n",
       "4     1\n",
       "5    33\n",
       "6     1\n",
       "Name: Theft, dtype: int64"
      ]
     },
     "execution_count": 32,
     "metadata": {},
     "output_type": "execute_result"
    }
   ],
   "source": [
    "df_clustered.groupby('Cluster')['Theft'].count()"
   ]
  },
  {
   "cell_type": "code",
   "execution_count": 33,
   "metadata": {},
   "outputs": [
    {
     "data": {
      "text/html": [
       "<div>\n",
       "<style scoped>\n",
       "    .dataframe tbody tr th:only-of-type {\n",
       "        vertical-align: middle;\n",
       "    }\n",
       "\n",
       "    .dataframe tbody tr th {\n",
       "        vertical-align: top;\n",
       "    }\n",
       "\n",
       "    .dataframe thead th {\n",
       "        text-align: right;\n",
       "    }\n",
       "</style>\n",
       "<table border=\"1\" class=\"dataframe\">\n",
       "  <thead>\n",
       "    <tr style=\"text-align: right;\">\n",
       "      <th></th>\n",
       "      <th>Non Violent</th>\n",
       "      <th>Theft</th>\n",
       "      <th>Violent</th>\n",
       "      <th>Drug</th>\n",
       "      <th>Traffic</th>\n",
       "      <th>Population</th>\n",
       "    </tr>\n",
       "    <tr>\n",
       "      <th>Cluster</th>\n",
       "      <th></th>\n",
       "      <th></th>\n",
       "      <th></th>\n",
       "      <th></th>\n",
       "      <th></th>\n",
       "      <th></th>\n",
       "    </tr>\n",
       "  </thead>\n",
       "  <tbody>\n",
       "    <tr>\n",
       "      <th>1</th>\n",
       "      <td>72.9</td>\n",
       "      <td>44.8</td>\n",
       "      <td>67.9</td>\n",
       "      <td>30.9</td>\n",
       "      <td>19.5</td>\n",
       "      <td>38232.7</td>\n",
       "    </tr>\n",
       "    <tr>\n",
       "      <th>2</th>\n",
       "      <td>8.9</td>\n",
       "      <td>5.7</td>\n",
       "      <td>7.5</td>\n",
       "      <td>4.9</td>\n",
       "      <td>5.6</td>\n",
       "      <td>30372.6</td>\n",
       "    </tr>\n",
       "    <tr>\n",
       "      <th>3</th>\n",
       "      <td>31.3</td>\n",
       "      <td>22.3</td>\n",
       "      <td>29.6</td>\n",
       "      <td>15.1</td>\n",
       "      <td>13.9</td>\n",
       "      <td>42364.4</td>\n",
       "    </tr>\n",
       "    <tr>\n",
       "      <th>4</th>\n",
       "      <td>145.5</td>\n",
       "      <td>43.8</td>\n",
       "      <td>83.2</td>\n",
       "      <td>21.0</td>\n",
       "      <td>123.6</td>\n",
       "      <td>25409.0</td>\n",
       "    </tr>\n",
       "    <tr>\n",
       "      <th>5</th>\n",
       "      <td>13.9</td>\n",
       "      <td>10.6</td>\n",
       "      <td>11.4</td>\n",
       "      <td>6.0</td>\n",
       "      <td>5.5</td>\n",
       "      <td>77405.0</td>\n",
       "    </tr>\n",
       "    <tr>\n",
       "      <th>6</th>\n",
       "      <td>149.6</td>\n",
       "      <td>303.9</td>\n",
       "      <td>86.0</td>\n",
       "      <td>67.0</td>\n",
       "      <td>50.6</td>\n",
       "      <td>28630.0</td>\n",
       "    </tr>\n",
       "  </tbody>\n",
       "</table>\n",
       "</div>"
      ],
      "text/plain": [
       "         Non Violent  Theft  Violent  Drug  Traffic  Population\n",
       "Cluster                                                        \n",
       "1               72.9   44.8     67.9  30.9     19.5     38232.7\n",
       "2                8.9    5.7      7.5   4.9      5.6     30372.6\n",
       "3               31.3   22.3     29.6  15.1     13.9     42364.4\n",
       "4              145.5   43.8     83.2  21.0    123.6     25409.0\n",
       "5               13.9   10.6     11.4   6.0      5.5     77405.0\n",
       "6              149.6  303.9     86.0  67.0     50.6     28630.0"
      ]
     },
     "execution_count": 33,
     "metadata": {},
     "output_type": "execute_result"
    }
   ],
   "source": [
    "round(df_clustered.groupby('Cluster').mean(),1)"
   ]
  },
  {
   "cell_type": "code",
   "execution_count": 34,
   "metadata": {
    "scrolled": false
   },
   "outputs": [
    {
     "data": {
      "image/png": "[encoded data removed]",
      "text/plain": [
       "<Figure size 259.5x216 with 1 Axes>"
      ]
     },
     "metadata": {
      "needs_background": "light"
     },
     "output_type": "display_data"
    },
    {
     "data": {
      "image/png": "[encoded data removed]",
      "text/plain": [
       "<Figure size 259.5x216 with 1 Axes>"
      ]
     },
     "metadata": {
      "needs_background": "light"
     },
     "output_type": "display_data"
    },
    {
     "data": {
      "image/png": "[encoded data removed]",
      "text/plain": [
       "<Figure size 259.5x216 with 1 Axes>"
      ]
     },
     "metadata": {
      "needs_background": "light"
     },
     "output_type": "display_data"
    },
    {
     "data": {
      "image/png": "[encoded data removed]",
      "text/plain": [
       "<Figure size 259.5x216 with 1 Axes>"
      ]
     },
     "metadata": {
      "needs_background": "light"
     },
     "output_type": "display_data"
    },
    {
     "data": {
      "image/png": "[encoded data removed]",
      "text/plain": [
       "<Figure size 259.5x216 with 1 Axes>"
      ]
     },
     "metadata": {
      "needs_background": "light"
     },
     "output_type": "display_data"
    }
   ],
   "source": [
    "from  matplotlib import pyplot\n",
    "\n",
    "for col in cols:\n",
    "    fg = sns.FacetGrid(data=df_clustered, hue='Cluster')#, hue_order=_genders, aspect=1.61)\n",
    "    fg.map(pyplot.scatter, 'Population', col).add_legend()"
   ]
  },
  {
   "cell_type": "markdown",
   "metadata": {},
   "source": [
    "Clusters 4 and 6 are slight outliers and very similar. We can:\n",
    "\n",
    "- Group 4 and 6 together \n",
    "- Re-add are originally removed outliers as it's own cluster"
   ]
  },
  {
   "cell_type": "code",
   "execution_count": 35,
   "metadata": {},
   "outputs": [],
   "source": [
    "df_clustered['Cluster'] = df_clustered.Cluster.replace([6],4)\n",
    "outliers = pd.DataFrame(data_pivoted[data_pivoted['Non Violent'] > 500][['Non Violent','Theft','Violent','Drug','Traffic','Population']])\n",
    "outliers['Cluster'] = 6\n",
    "df_clustered = pd.concat([df_clustered,outliers])"
   ]
  },
  {
   "cell_type": "code",
   "execution_count": 36,
   "metadata": {},
   "outputs": [
    {
     "data": {
      "text/plain": [
       "Cluster\n",
       "1    25\n",
       "2    69\n",
       "3    59\n",
       "4     2\n",
       "5    33\n",
       "6     4\n",
       "Name: Theft, dtype: int64"
      ]
     },
     "execution_count": 36,
     "metadata": {},
     "output_type": "execute_result"
    }
   ],
   "source": [
    "df_clustered.groupby('Cluster')['Theft'].count()"
   ]
  },
  {
   "cell_type": "code",
   "execution_count": 37,
   "metadata": {},
   "outputs": [
    {
     "data": {
      "text/html": [
       "<div>\n",
       "<style scoped>\n",
       "    .dataframe tbody tr th:only-of-type {\n",
       "        vertical-align: middle;\n",
       "    }\n",
       "\n",
       "    .dataframe tbody tr th {\n",
       "        vertical-align: top;\n",
       "    }\n",
       "\n",
       "    .dataframe thead th {\n",
       "        text-align: right;\n",
       "    }\n",
       "</style>\n",
       "<table border=\"1\" class=\"dataframe\">\n",
       "  <thead>\n",
       "    <tr style=\"text-align: right;\">\n",
       "      <th></th>\n",
       "      <th>Non Violent</th>\n",
       "      <th>Theft</th>\n",
       "      <th>Violent</th>\n",
       "      <th>Drug</th>\n",
       "      <th>Traffic</th>\n",
       "      <th>Population</th>\n",
       "    </tr>\n",
       "    <tr>\n",
       "      <th>Cluster</th>\n",
       "      <th></th>\n",
       "      <th></th>\n",
       "      <th></th>\n",
       "      <th></th>\n",
       "      <th></th>\n",
       "      <th></th>\n",
       "    </tr>\n",
       "  </thead>\n",
       "  <tbody>\n",
       "    <tr>\n",
       "      <th>1</th>\n",
       "      <td>72.9</td>\n",
       "      <td>44.8</td>\n",
       "      <td>67.9</td>\n",
       "      <td>30.9</td>\n",
       "      <td>19.5</td>\n",
       "      <td>38232.7</td>\n",
       "    </tr>\n",
       "    <tr>\n",
       "      <th>2</th>\n",
       "      <td>8.9</td>\n",
       "      <td>5.7</td>\n",
       "      <td>7.5</td>\n",
       "      <td>4.9</td>\n",
       "      <td>5.6</td>\n",
       "      <td>30372.6</td>\n",
       "    </tr>\n",
       "    <tr>\n",
       "      <th>3</th>\n",
       "      <td>31.3</td>\n",
       "      <td>22.3</td>\n",
       "      <td>29.6</td>\n",
       "      <td>15.1</td>\n",
       "      <td>13.9</td>\n",
       "      <td>42364.4</td>\n",
       "    </tr>\n",
       "    <tr>\n",
       "      <th>4</th>\n",
       "      <td>147.6</td>\n",
       "      <td>173.9</td>\n",
       "      <td>84.6</td>\n",
       "      <td>44.0</td>\n",
       "      <td>87.1</td>\n",
       "      <td>27019.5</td>\n",
       "    </tr>\n",
       "    <tr>\n",
       "      <th>5</th>\n",
       "      <td>13.9</td>\n",
       "      <td>10.6</td>\n",
       "      <td>11.4</td>\n",
       "      <td>6.0</td>\n",
       "      <td>5.5</td>\n",
       "      <td>77405.0</td>\n",
       "    </tr>\n",
       "    <tr>\n",
       "      <th>6</th>\n",
       "      <td>1875.2</td>\n",
       "      <td>1607.2</td>\n",
       "      <td>1686.8</td>\n",
       "      <td>998.9</td>\n",
       "      <td>1090.4</td>\n",
       "      <td>1152.2</td>\n",
       "    </tr>\n",
       "  </tbody>\n",
       "</table>\n",
       "</div>"
      ],
      "text/plain": [
       "         Non Violent   Theft  Violent   Drug  Traffic  Population\n",
       "Cluster                                                          \n",
       "1               72.9    44.8     67.9   30.9     19.5     38232.7\n",
       "2                8.9     5.7      7.5    4.9      5.6     30372.6\n",
       "3               31.3    22.3     29.6   15.1     13.9     42364.4\n",
       "4              147.6   173.9     84.6   44.0     87.1     27019.5\n",
       "5               13.9    10.6     11.4    6.0      5.5     77405.0\n",
       "6             1875.2  1607.2   1686.8  998.9   1090.4      1152.2"
      ]
     },
     "execution_count": 37,
     "metadata": {},
     "output_type": "execute_result"
    }
   ],
   "source": [
    "round(df_clustered.groupby('Cluster').mean(),1)"
   ]
  },
  {
   "cell_type": "markdown",
   "metadata": {},
   "source": [
    "Re-add Borough and Coordinates to clusted dataframe for Tableau Viz"
   ]
  },
  {
   "cell_type": "code",
   "execution_count": 38,
   "metadata": {},
   "outputs": [],
   "source": [
    "df_clustered = pd.merge(df_clustered,data[['Neighborhood','Borough']].drop_duplicates(),how='inner',left_on=['Neighborhood'],right_on=['Neighborhood'])\n",
    "df_clustered = df_clustered.rename(columns={'Non Violent':'Non Violent Other'})"
   ]
  },
  {
   "cell_type": "code",
   "execution_count": 39,
   "metadata": {},
   "outputs": [],
   "source": [
    "df_clustered = pd.merge(df_clustered, neighborhood_map[['NTAName','Latitude_Center','Longitude_Center','Latitude','Longitude']].drop_duplicates(), how='inner',left_on=['Neighborhood'], right_on=['NTAName'])\n",
    "df_clustered = df_clustered.drop(['NTAName'],axis=1)"
   ]
  },
  {
   "cell_type": "code",
   "execution_count": null,
   "metadata": {},
   "outputs": [],
   "source": [
    "#Save Filex\n",
    "df_clustered.to_csv('nyc_neighborhoods_clustered_EDITED.csv',index=False)"
   ]
  },
  {
   "cell_type": "markdown",
   "metadata": {},
   "source": [
    "Another Cool Viz"
   ]
  },
  {
   "cell_type": "code",
   "execution_count": 464,
   "metadata": {},
   "outputs": [],
   "source": [
    "#from mnist import MNIST\n",
    "from mnist.loader import MNIST\n",
    "import tools\n",
    "from pandas.plotting import parallel_coordinates"
   ]
  },
  {
   "cell_type": "code",
   "execution_count": 472,
   "metadata": {},
   "outputs": [
    {
     "data": {
      "application/vnd.plotly.v1+json": {
       "config": {
        "plotlyServerURL": "https://plot.ly"
       },
       "data": [
        {
         "dimensions": [
          {
           "label": "Drug",
           "values": [
            7.853856001107152,
            6.769895570759813,
            5.428322371027815,
            2.1956265150457526,
            2.3004600920184037,
            7.3404040112129,
            11.158999031104875,
            5.617269956422076,
            5.921558251754419,
            3.218590211833455,
            17.974064174904193,
            26.66544151428834,
            4.270969272748843,
            14.829425085835343,
            4.779446790942869,
            2.028694760332255,
            4.541308987654785,
            5.817688628738668,
            11.625530175277225,
            3.685261766112471,
            14.266419044403175,
            3.451741163105693,
            28.867924528301888,
            16.941440022401906,
            25.630712472781237,
            2.2487551533972265,
            10.526567335380498,
            17.20856256355435,
            56.122313434818416,
            31.348684968766566,
            10.251790846308927,
            1.943817406571357,
            31.887508848703263,
            40.602388632202945,
            20.263861343450895,
            1.9427683305906014,
            6.920700308959836,
            5.220437753650837,
            37.67815751837057,
            15.101435508728397,
            20.89740357953113,
            20.498547427015826,
            14.291926366140022,
            0.40422005739924816,
            11.07994059265895,
            7.867189005201978,
            13.088552915766739,
            15.132558832290737,
            2.8166926098880736,
            19.32125682965925,
            32.485924493109046,
            7.427303769111986,
            37.82844289949903,
            34.72813946526034,
            20.572775058908825,
            4.479184963990866,
            7.677376365269287,
            8.843452791568186,
            3.2522236589475333,
            21.64473244705725,
            9.349154980222941,
            5.954406260632868,
            2.4551434483184584,
            3.66625930452172,
            38.53230486165169,
            0.7404930250334417,
            20.399555197668622,
            1.6842578037278237,
            0.919497954117052,
            3.1173310340253364,
            0.6202649417394,
            3.723535204332841,
            13.327140202944118,
            8.582623297468748,
            8.560945780676722,
            3.781925343811395,
            5.702929231832714,
            35.218165627782724,
            11.108821104699093,
            12.850752338348922,
            17.07000291568373,
            11.29804134392422,
            4.129434064446249,
            19.743406985032074,
            12.659828357383319,
            25.768269372151153,
            1.9047266809675272,
            11.516064817398746,
            8.987441130298272,
            3.090184597869399,
            14.39127072772575,
            6.6437204834707435,
            23.264401772525847,
            3.762319551793236,
            0.5323692909583885,
            1.658833287254631,
            2.638825149150987,
            43.32722553061536,
            19.54575983113341,
            8.453889045918237,
            8.366013071895425,
            17.07097933513028,
            9.62699370909322,
            2.5560361777428238,
            58.83102973427857,
            1.3709826254317277,
            66.99266503667482,
            4.712785085643986,
            3.808399935632677,
            28.41674369470487,
            48.2513880144239,
            30.092458548072653,
            6.397495119735597,
            11.725986362382248,
            11.81169757489301,
            8.220679576178297,
            3.3335858777180087,
            4.996444837327286,
            3.086862885857861,
            8.279809498842138,
            12.767323554106781,
            1.7707263519495697,
            3.1293936232935735,
            29.184280569907624,
            0.49263510517759496,
            11.145466311929244,
            5.959331588483995,
            4.444236526946107,
            11.337935520111161,
            4.862345327118473,
            6.131738329007261,
            3.358494330462541,
            4.260445436916025,
            16.294388588975288,
            0.9068466925285908,
            7.4267332750263115,
            4.01874142922444,
            3.894230769230769,
            21.46779830254618,
            1.2738853503184713,
            2.000571591883395,
            5.251237070271363,
            6.024817460000798,
            2.1191542647979578,
            7.844413114991143,
            5.207507867865148,
            45.424683247301736,
            5.068353017762485,
            17.476954751766414,
            15.575012628388617,
            9.499683343888536,
            25.042422995834833,
            8.698173383589447,
            20.976819237278132,
            5.21557719054242,
            3.9454925234574447,
            11.544872718292757,
            17.275923335727516,
            4.19350007488393,
            6.016745908192031,
            22.628495842781557,
            0.23754097581832867,
            12.524191318772463,
            11.861364519531467,
            2.9628182587745004,
            2.498487244051453,
            12.567358086661253,
            2.1566160733249466,
            3.2331656317514996,
            14.431137724550897,
            8.88888888888889,
            3.828050524308866,
            10.729766219000924,
            10.816901408450704,
            39.63647472124637,
            20.822027362828823,
            32.10038448928497,
            22.353468899521534,
            5.504991192014092,
            2.9873039581777445,
            1.5923049426445262,
            17.318699955969407,
            12.725505679402294,
            3.097007813988946,
            14.133465080989518,
            8.215050726172823,
            4.523381893168363,
            2.0656385517436044,
            454.8793284365163,
            911.4832535885167,
            1243.9156300703082,
            1385.3211009174313
           ]
          },
          {
           "label": "Non Violent Other",
           "values": [
            45.42781026191053,
            5.329492257832193,
            5.071717251763214,
            3.5028492378764606,
            4.700940188037608,
            19.911568361124758,
            31.338745781965187,
            36.07143756769692,
            5.467992087790251,
            13.262417823228635,
            26.41664191874196,
            25.911972801617203,
            56.07624471072093,
            12.455256044999635,
            6.526088475340595,
            4.508210578516122,
            9.91942232293126,
            29.373973873938183,
            21.666922172824368,
            4.810532534391088,
            14.744780235241151,
            40.634421287193604,
            50.120068610634654,
            37.348174594840565,
            37.780335917671046,
            10.815441452053328,
            30.241477781893348,
            26.67327197350924,
            70.28240482452645,
            59.078440863932876,
            22.519624243984044,
            3.197893152746426,
            33.46418688461291,
            56.11978031557842,
            31.847316834813604,
            5.554031815688425,
            10.298661174047375,
            11.08259044711922,
            31.217635744932682,
            20.781436284155124,
            55.734812200655405,
            36.62921804847328,
            53.57298159153501,
            3.3954484821536846,
            12.635847143968505,
            12.105837775351615,
            78.8768898488121,
            40.889683248932585,
            6.263434882514269,
            16.770368327616815,
            56.4401920486339,
            15.082972661432393,
            115.12115325631326,
            36.98500794509822,
            28.72938191045858,
            5.650213712746647,
            20.540603181041224,
            33.281689981566714,
            8.933819207711297,
            48.90106219520342,
            36.65747732630149,
            17.37174397943367,
            15.363947994194126,
            9.360071103210755,
            52.47328568395726,
            3.212784253774126,
            86.50638444725641,
            4.996631484392544,
            1.9309457036458093,
            9.550971678715925,
            1.8164901865225287,
            5.323732151649433,
            53.55866800057167,
            8.893587909695876,
            10.191602119853242,
            5.1080550098231825,
            19.09617212477318,
            35.841495992876226,
            28.194558944765042,
            37.60336180018978,
            56.11365865295412,
            32.11801272879767,
            21.36925715317267,
            46.31503920171062,
            24.466185140111584,
            97.33862667254816,
            3.2454323544640875,
            15.739242060612826,
            42.189952904238616,
            6.261689843051151,
            118.13729701864422,
            29.216361162250863,
            23.664451009354995,
            9.201324990798675,
            4.556090676108999,
            8.60316479370294,
            4.321554229769007,
            62.146892655367225,
            38.04981016215031,
            12.796464270113317,
            27.01525054466231,
            25.371154751208657,
            13.026625150918218,
            3.14589068029886,
            45.289947467741115,
            2.9792507052651005,
            149.63325183374084,
            10.106936689694331,
            7.581040247456596,
            54.06047801399709,
            65.40362123900559,
            41.326461675063214,
            27.38746400201009,
            25.738047376926414,
            16.83309557774608,
            37.86079649251005,
            4.444781170290678,
            10.838441877894574,
            3.2663316582914574,
            25.888058723292698,
            43.01871882254161,
            2.3727733116124234,
            3.537575400244909,
            84.51542195083765,
            1.576432336568304,
            26.425541094412885,
            8.818200120797261,
            9.215943113772454,
            21.59677157090275,
            6.639616377720398,
            26.445472670503708,
            6.484221727130649,
            5.523887876829053,
            59.23431231736913,
            2.0152148722857572,
            31.159667353503608,
            8.723144903245467,
            8.60576923076923,
            29.006490264603094,
            14.685067232837932,
            2.3816328474802324,
            16.86454982183303,
            14.603199936160875,
            3.1787313971969366,
            22.792177276506525,
            14.762152738469897,
            90.00469263256687,
            6.168821104187979,
            144.30770670534838,
            19.6441600718415,
            30.30585255001304,
            36.843729109888415,
            35.16170695063128,
            145.53898225038373,
            19.62050466918339,
            4.940154504161002,
            28.440310332763975,
            11.529883189052281,
            11.756776995656733,
            30.96730761139395,
            55.09889140841522,
            0.3800655613093259,
            25.57367984517556,
            23.038063692381712,
            5.111675457446116,
            13.097538599675977,
            18.841809994832804,
            17.906448608819254,
            7.229297919593891,
            22.15568862275449,
            15.11111111111111,
            7.283722592945663,
            17.006561027025747,
            12,
            92.81604806272594,
            26.248893204992715,
            73.23179636970582,
            27.63157894736842,
            8.624486200822078,
            5.3107625923159905,
            3.249601923764339,
            38.600153291694525,
            14.912227419060924,
            7.956927768248523,
            17.06249779440308,
            19.37245486429866,
            10.776292157254042,
            3.746375509994612,
            598.1112277019937,
            2894.7368421052633,
            1537.587885343429,
            2470.183486238532
           ]
          },
          {
           "label": "Theft",
           "values": [
            19.27135591461094,
            1.4404033129276197,
            1.5452888501466044,
            1.5483608950033632,
            6.601320264052811,
            3.554605092044042,
            25.425144499014397,
            78.69215849265726,
            4.283680437439367,
            8.925310445580715,
            18.2710392714211,
            23.357530092805295,
            24.162613200458736,
            3.2507853020673534,
            1.7625202451649782,
            2.5358684504153186,
            7.587652904839362,
            14.133771147119708,
            19.188512443149882,
            1.772301460038822,
            9.59536271033823,
            19.18119456459999,
            20.154373927958833,
            26.724771605586476,
            16.712666953301618,
            2.034587995930824,
            10.347340876775835,
            6.674836388287748,
            38.455407667171436,
            44.579674065878336,
            21.96199545318063,
            0.5225315609062787,
            13.192612137203167,
            45.20094150466394,
            21.03992411830646,
            16.044980800877674,
            14.088568486096808,
            4.8735648132089215,
            32.8450954283178,
            13.414882377458346,
            30.123519032014116,
            16.496353330760012,
            46.67343093201914,
            1.1722381664578196,
            5.02133477922629,
            1.9266585318861988,
            35.593952483801296,
            8.08261344454374,
            3.1131865688236604,
            21.389544804288253,
            42.72736693033056,
            14.963352834989887,
            51.698871962648674,
            22.361421366556893,
            29.22784121805329,
            2.0200245916037236,
            15.731378740910275,
            42.38524432582808,
            3.0563065710591277,
            23.715679070078163,
            12.90503016500859,
            11.634720804506445,
            8.075723418053798,
            6.832574158426842,
            27.032764843252423,
            3.1769539461112175,
            120.36504467195827,
            2.807096339546373,
            0.5516987724702312,
            14.54754482545157,
            0.3987417482610429,
            5.7237813884785815,
            120.33728740888952,
            2.923067354935008,
            9.682022013860578,
            1.9155206286836937,
            21.486793974480833,
            11.798753339269812,
            17.84830997526793,
            20.30635759793954,
            41.34969650383015,
            7.499136612561054,
            16.585431898185757,
            100.66999287241624,
            15.093802848066254,
            29.480958682546685,
            1.5348768400029589,
            17.041543413145803,
            19.740973312401884,
            3.8491773061180234,
            41.54136953346508,
            14.568158168574403,
            18.433037912358444,
            1.922054553633501,
            10.412152876651273,
            22.247881734944464,
            2.7918005201162615,
            37.753855550465715,
            16.379511218937182,
            8.274019066217848,
            34.248366013071895,
            30.74059812604287,
            6.799262883649996,
            1.2124786996985188,
            15.68317437649819,
            1.3182525244535843,
            303.9469088368844,
            5.886249645121605,
            6.6691698403332795,
            28.258286016109864,
            43.00459809589224,
            19.41822533634451,
            30.05469761688475,
            42.66682432698751,
            8.216833095577746,
            25.438436244062842,
            3.0305326161072808,
            3.266906239790918,
            1.8664752333094041,
            22.283392318783587,
            19.08924778979602,
            0.9561922300527677,
            3.9457571771962447,
            30.656020040707688,
            0.7389526577663924,
            8.808513698137629,
            3.784980873766861,
            2.6665419161676644,
            27.406170083814985,
            2.4144059555346904,
            15.950043260730544,
            8.944900741528945,
            2.4975024975024978,
            42.34559952454064,
            0.4534233462642954,
            9.205591544493693,
            2.875971354563462,
            3.269230769230769,
            7.63854218671992,
            14.791224345364473,
            0.3810612555968372,
            12.52218070603171,
            3.15205681682161,
            1.252227520107884,
            3.1630698044319128,
            11.411234632191455,
            50.08603159705928,
            4.091881335441272,
            74.6806419914838,
            15.097940169501038,
            14.119137205230414,
            13.858178639378824,
            13.192229631777327,
            43.80337675626747,
            3.3777071329227097,
            4.60860051059315,
            10.721708888111456,
            5.9728575208861,
            7.6381608506814445,
            15.020827197374512,
            24.36067019400353,
            0.2850491709819944,
            11.07271219242466,
            12.157436020799024,
            23.344403203750733,
            38.92174659873904,
            16.97792869269949,
            57.689479961442316,
            14.858964480502804,
            14.630738522954092,
            7.897435897435898,
            7.26882745471878,
            9.071744948956631,
            6.140845070422535,
            48.6991497377934,
            25.6490817171746,
            36.33274716103842,
            39.74282296650718,
            4.73429242513212,
            3.4022072857024312,
            2.5346895005361842,
            23.2383685849872,
            11.146206645204398,
            3.0493615399275775,
            8.769453364858665,
            8.14443424428595,
            3.9025255548903526,
            2.899592004310898,
            246.0650577124869,
            2363.6363636363635,
            1091.941590048675,
            2727.064220183486
           ]
          },
          {
           "label": "Traffic",
           "values": [
            17.610628654464936,
            9.074540871444004,
            7.647198668674221,
            2.957115479801505,
            4.150830166033207,
            7.138109412478687,
            6.581804817747486,
            6.322577394896597,
            4.888435322724925,
            16.298392987582176,
            7.5657941255497585,
            10.658825691445374,
            7.236920156602207,
            7.012930089853167,
            1.3496776652164248,
            2.1526705512414486,
            4.381469954963002,
            11.06431579698765,
            10.961214165261383,
            3.685261766112471,
            7.935167989194666,
            6.07331673002141,
            13.550600343053175,
            8.575728936959642,
            8.765481754760684,
            4.283343149328051,
            13.023789325272126,
            15.383411988631918,
            28.731967801067984,
            13.507595140953828,
            20.803843349204307,
            0.1672100994900092,
            21.94478409164039,
            21.924853979600734,
            17.332068638440976,
            4.616931797403547,
            3.5015447991761075,
            4.509348225744909,
            19.82541796123687,
            7.395632408960056,
            29.745399546256614,
            8.613859374682567,
            11.566893752717785,
            9.58001536036218,
            12.093637285178811,
            2.3762121893263117,
            58.488120950323975,
            15.768046867242578,
            1.5565932844118302,
            8.652338027197986,
            20.102932541190288,
            3.4254768481263187,
            14.92689909007259,
            20.334845588743292,
            6.661228928765633,
            3.5716376837051347,
            17.006112929860645,
            9.114863107421941,
            3.6440578347243444,
            15.966330416193466,
            11.42674497582804,
            4.867490832104647,
            6.022049967573577,
            2.583046328185757,
            12.1364376194183,
            5.326772405885726,
            19.939414854864065,
            5.221199191556254,
            1.7930210105282516,
            6.278879529526209,
            1.1076159673917858,
            4.6159527326440175,
            9.57553237101615,
            12.74954910131227,
            4.0086968338089415,
            4.81335952848723,
            7.085457530458826,
            24.755120213713266,
            15.1277823577906,
            13.257421716144774,
            14.419381344925386,
            15.343628200700579,
            10.402563408249842,
            10.534568781183179,
            17.480362251268353,
            12.755477135715335,
            2.0526666173533545,
            8.371937266283418,
            14.795918367346939,
            3.0359708329944977,
            12.844746112208954,
            13.394167400410897,
            9.662727720334809,
            4.9482681061628435,
            4.419903183073132,
            2.8297744311990765,
            1.2238029677221967,
            16.64376240647427,
            13.172142494894254,
            5.550273659326258,
            24.226579520697168,
            23.403071920592136,
            18.586770032407703,
            2.785424039847949,
            14.51012393532922,
            2.610139998418097,
            50.5763185469787,
            6.908299422731144,
            5.953977364158129,
            17.932127294335135,
            16.274588365481847,
            14.804949138147354,
            9.663889908966157,
            10.5435339560916,
            9.586305278174038,
            27.310924369747898,
            4.87410662423921,
            5.265484174721832,
            4.881550610193826,
            7.44964390265216,
            12.668543487924136,
            3.151892906470234,
            3.2654542156106854,
            15.093157977141068,
            1.379378294497266,
            24.879557057596895,
            8.576605596939803,
            5.145958083832335,
            21.41938535676802,
            2.380872539485597,
            17.7180905089719,
            5.021115286137066,
            2.8207087030616442,
            28.973304937843594,
            0.7053252053000151,
            5.4996368164366505,
            6.856620447965869,
            3.3653846153846154,
            21.018472291562656,
            10.686482661004954,
            1.476612365437744,
            5.005986987319129,
            7.461197781590393,
            3.9493329480325574,
            7.428695369265807,
            8.173523218692688,
            17.018614109181918,
            3.7508912241544996,
            21.103364372280193,
            11.30942358421732,
            7.618373505196885,
            13.755335013112562,
            10.464166161469727,
            123.57825967176986,
            9.785416252731968,
            3.547627731176022,
            15.207951762599551,
            6.955732809133179,
            2.920473266437023,
            13.800647957251652,
            12.692113882590073,
            0.5700983419639888,
            14.915675974564556,
            15.525249347717475,
            4.916324803021424,
            6.71468446838828,
            8.488964346349745,
            6.208440211086967,
            4.676003565547146,
            7.944111776447105,
            8.581196581196581,
            7.000714966634891,
            9.829697529548307,
            7.436619718309859,
            25.940634387251162,
            11.339293364942446,
            16.45256475216834,
            10.481459330143542,
            8.220786846741046,
            7.011866235167206,
            4.094498423943067,
            13.355946576213695,
            5.527546619692644,
            5.431675242995998,
            6.510922115961464,
            10.286467528187746,
            4.87815694361294,
            2.7071412075645997,
            403.98740818467996,
            1315.7894736842106,
            857.2201189832342,
            1784.4036697247707
           ]
          },
          {
           "label": "Violent",
           "values": [
            50.37539355776217,
            3.204897371263954,
            2.813218163087408,
            3.084030307260797,
            4.050810162032406,
            9.363349998555039,
            33.37676656309512,
            24.207158870500518,
            2.595406382683852,
            10.431884587289993,
            14.509354715540283,
            22.14462923826151,
            64.02499307944794,
            12.199576302140404,
            5.049382323986154,
            4.1700947851274135,
            10.605789933901859,
            26.982654008137626,
            14.742705299197711,
            4.472951303907503,
            15.391974787551355,
            12.365098090619128,
            33.65351629502573,
            34.89796632713781,
            33.716592002884845,
            7.0139744070246826,
            20.037518072001244,
            10.32513753813261,
            54.06338832655881,
            68.11423829610676,
            15.141766396431176,
            3.8667335507064626,
            36.971491086942535,
            42.236945340423674,
            26.8747664625909,
            7.131102578167855,
            10.751802265705459,
            12.539456796975267,
            28.899738620111457,
            16.16764725838188,
            44.618099319384925,
            28.502935619527456,
            25.858820118857807,
            3.5975585108533084,
            7.260897239444589,
            8.316742662642092,
            82.28941684665227,
            24.823751365306325,
            5.448076495441406,
            11.030869198021339,
            48.133052398880864,
            9.64570782313665,
            139.04508741437482,
            41.03815950072542,
            24.67373572593801,
            3.630189121142924,
            27.55164122026827,
            36.28982098227917,
            8.816268954978254,
            33.80319326608324,
            41.29210116265133,
            14.649729688858644,
            13.171304159846823,
            7.1103210754360635,
            99.14372655862996,
            4.932639021593732,
            81.06139039073584,
            3.873792948573995,
            2.1608201921750725,
            5.770378722557537,
            2.348145850870586,
            5.816100443131462,
            53.66585679576961,
            6.530256856769699,
            8.255197717081126,
            2.8487229862475445,
            17.281603732826404,
            26.17987533392698,
            30.87386644682605,
            31.34065338213366,
            68.67760489834866,
            24.372193990823426,
            23.53551764599693,
            28.353528153955807,
            21.131323987292756,
            63.37303337744449,
            3.827945853983283,
            15.6462205354319,
            56.00470957613815,
            6.668293079612914,
            61.34547641549962,
            27.72219109367913,
            18.894633185622844,
            5.193636772584141,
            3.392306644711592,
            3.9519263608125033,
            3.1742389475294477,
            72.95006871278058,
            27.92055594391217,
            10.329675977079425,
            30.544662309368192,
            15.594917212167886,
            12.105229713414246,
            5.013763271726308,
            44.269903605855056,
            3.664742017980964,
            86.028641285365,
            9.179521150752342,
            7.1519247617515065,
            87.4950481975439,
            80.38082155190507,
            62.86795220723068,
            39.022787452405346,
            14.760947538528242,
            10.95577746077033,
            30.873218852758495,
            2.525443846756067,
            12.587197570959125,
            3.4099066762383345,
            27.177000043692924,
            61.070775917419866,
            2.868576690158303,
            4.3085854233752094,
            81.03961171128856,
            1.083797231390709,
            21.60782339828863,
            7.610227501509965,
            9.636976047904191,
            13.156144214992091,
            8.416887428322323,
            43.825000940450664,
            12.40315232933196,
            9.372979961215256,
            51.55762468426527,
            1.511411154214318,
            29.365985265124,
            8.437452384580222,
            9.711538461538462,
            20.868696954568147,
            47.91224345364473,
            2.429265504429837,
            18.639006304369783,
            15.760284084108049,
            1.6375282955256947,
            12.254636156599068,
            13.06405234677474,
            68.3247301736274,
            5.6108372857187145,
            46.6052126713771,
            20.96312510523657,
            49.02581678649928,
            25.633773846865843,
            32.064630064050185,
            83.23822267700422,
            12.219352274985097,
            6.432147475216339,
            19.138559051715266,
            8.278834158696556,
            8.162348360041936,
            35.99528758362435,
            64.92504409171076,
            0.5700983419639888,
            14.08625933093724,
            16.7095353527877,
            3.2884026828156543,
            10.247701586929788,
            20.244334539012325,
            17.334618589377033,
            7.7052078139872195,
            26.047904191616766,
            17.94871794871795,
            3.5152526215443283,
            16.402567564366755,
            7.380281690140845,
            58.37279160938853,
            39.58755819599554,
            73.85770915919048,
            20.648923444976077,
            11.70728126834997,
            5.103310928553647,
            2.924641731387905,
            56.815772736909054,
            8.86837149972666,
            8.05222031637126,
            10.551575678441614,
            17.41873219876186,
            9.179804430253443,
            3.810525775576711,
            584.9947534102834,
            2921.0526315789475,
            1396.97133585722,
            1844.0366972477063
           ]
          },
          {
           "label": "Population",
           "values": [
            28903,
            27770,
            25238,
            78793,
            19996,
            34603,
            29931,
            39699,
            79371,
            43808,
            70713,
            54415,
            25287,
            27378,
            62978,
            88727,
            106357,
            28018,
            39138,
            35547,
            35538,
            22887,
            58300,
            57138,
            72101,
            18677,
            83693,
            38353,
            75282,
            43383,
            23313,
            47844,
            31078,
            45884,
            34791,
            43752,
            24275,
            57658,
            20277,
            103169,
            39670,
            49223,
            34495,
            24739,
            42419,
            62284,
            23150,
            50355,
            26982,
            58019,
            57902,
            91958,
            29343,
            43423,
            44136,
            34158,
            34517,
            88427,
            25521,
            29938,
            50058,
            105804,
            64762,
            72008,
            28262,
            83728,
            26079,
            17812,
            21751,
            45231,
            22571,
            32496,
            27988,
            16079,
            29436,
            40720,
            34719,
            22460,
            48520,
            36885,
            37727,
            20269,
            44316,
            70150,
            63271,
            27204,
            108152,
            53751,
            25480,
            36891,
            23278,
            37479,
            32496,
            24453,
            80771,
            61489,
            26148,
            26196,
            72957,
            38917,
            22950,
            46746,
            31474,
            30516,
            39214,
            37929,
            28630,
            52835,
            55929,
            37865,
            52413,
            51807,
            51739,
            50742,
            17525,
            21896,
            39597,
            52037,
            27860,
            45774,
            40494,
            28237,
            22049,
            31935,
            20299,
            27814,
            24835,
            21376,
            67649,
            29821,
            26583,
            30073,
            34034,
            20191,
            19849,
            67459,
            52504,
            20800,
            20030,
            28260,
            62982,
            69317,
            25063,
            20763,
            55326,
            44167,
            31965,
            64518,
            42742,
            35634,
            53686,
            38894,
            75878,
            25409,
            20132,
            30161,
            48593,
            26453,
            13354,
            47534,
            63504,
            21049,
            72340,
            54041,
            30714,
            51231,
            54188,
            61207,
            132378,
            50100,
            29250,
            67136,
            84438,
            17750,
            39282,
            35011,
            33551,
            66880,
            27248,
            24102,
            30773,
            61321,
            32926,
            20988,
            56674,
            42483,
            45099,
            77942,
            1906,
            418,
            1849,
            436
           ]
          },
          {
           "label": "Cluster",
           "values": [
            3,
            2,
            2,
            5,
            2,
            2,
            3,
            3,
            5,
            2,
            5,
            3,
            3,
            2,
            5,
            5,
            5,
            3,
            3,
            2,
            2,
            2,
            3,
            3,
            3,
            2,
            5,
            3,
            1,
            1,
            3,
            2,
            3,
            1,
            3,
            2,
            2,
            5,
            3,
            5,
            1,
            3,
            3,
            2,
            2,
            5,
            1,
            3,
            2,
            3,
            1,
            5,
            1,
            3,
            3,
            2,
            3,
            5,
            2,
            3,
            3,
            5,
            5,
            5,
            1,
            5,
            1,
            2,
            2,
            2,
            2,
            2,
            1,
            2,
            2,
            2,
            2,
            3,
            3,
            3,
            1,
            3,
            3,
            3,
            3,
            1,
            5,
            3,
            3,
            2,
            1,
            3,
            3,
            2,
            5,
            5,
            2,
            1,
            3,
            2,
            3,
            3,
            2,
            2,
            1,
            2,
            4,
            2,
            5,
            1,
            1,
            1,
            3,
            3,
            2,
            3,
            2,
            2,
            2,
            3,
            3,
            2,
            2,
            1,
            2,
            3,
            2,
            2,
            3,
            2,
            3,
            2,
            2,
            1,
            2,
            5,
            2,
            2,
            3,
            3,
            5,
            5,
            2,
            2,
            5,
            2,
            1,
            5,
            1,
            3,
            3,
            3,
            5,
            4,
            2,
            2,
            3,
            2,
            2,
            3,
            1,
            2,
            5,
            3,
            2,
            2,
            3,
            5,
            5,
            3,
            2,
            5,
            5,
            2,
            1,
            3,
            1,
            3,
            2,
            2,
            2,
            3,
            2,
            2,
            5,
            2,
            2,
            5,
            6,
            6,
            6,
            6
           ]
          }
         ],
         "domain": {
          "x": [
           0,
           1
          ],
          "y": [
           0,
           1
          ]
         },
         "line": {
          "color": [
           3,
           2,
           2,
           5,
           2,
           2,
           3,
           3,
           5,
           2,
           5,
           3,
           3,
           2,
           5,
           5,
           5,
           3,
           3,
           2,
           2,
           2,
           3,
           3,
           3,
           2,
           5,
           3,
           1,
           1,
           3,
           2,
           3,
           1,
           3,
           2,
           2,
           5,
           3,
           5,
           1,
           3,
           3,
           2,
           2,
           5,
           1,
           3,
           2,
           3,
           1,
           5,
           1,
           3,
           3,
           2,
           3,
           5,
           2,
           3,
           3,
           5,
           5,
           5,
           1,
           5,
           1,
           2,
           2,
           2,
           2,
           2,
           1,
           2,
           2,
           2,
           2,
           3,
           3,
           3,
           1,
           3,
           3,
           3,
           3,
           1,
           5,
           3,
           3,
           2,
           1,
           3,
           3,
           2,
           5,
           5,
           2,
           1,
           3,
           2,
           3,
           3,
           2,
           2,
           1,
           2,
           4,
           2,
           5,
           1,
           1,
           1,
           3,
           3,
           2,
           3,
           2,
           2,
           2,
           3,
           3,
           2,
           2,
           1,
           2,
           3,
           2,
           2,
           3,
           2,
           3,
           2,
           2,
           1,
           2,
           5,
           2,
           2,
           3,
           3,
           5,
           5,
           2,
           2,
           5,
           2,
           1,
           5,
           1,
           3,
           3,
           3,
           5,
           4,
           2,
           2,
           3,
           2,
           2,
           3,
           1,
           2,
           5,
           3,
           2,
           2,
           3,
           5,
           5,
           3,
           2,
           5,
           5,
           2,
           1,
           3,
           1,
           3,
           2,
           2,
           2,
           3,
           2,
           2,
           5,
           2,
           2,
           5,
           6,
           6,
           6,
           6
          ],
          "coloraxis": "coloraxis"
         },
         "name": "",
         "type": "parcoords"
        }
       ],
       "layout": {
        "coloraxis": {
         "cmid": 2,
         "colorbar": {
          "title": {
           "text": "Cluster"
          }
         },
         "colorscale": [
          [
           0,
           "rgb(0, 147, 146)"
          ],
          [
           0.16666666666666666,
           "rgb(114, 170, 161)"
          ],
          [
           0.3333333333333333,
           "rgb(177, 199, 179)"
          ],
          [
           0.5,
           "rgb(241, 234, 200)"
          ],
          [
           0.6666666666666666,
           "rgb(229, 185, 173)"
          ],
          [
           0.8333333333333334,
           "rgb(217, 137, 148)"
          ],
          [
           1,
           "rgb(208, 88, 126)"
          ]
         ]
        },
        "legend": {
         "tracegroupgap": 0
        },
        "margin": {
         "t": 60
        },
        "template": {
         "data": {
          "bar": [
           {
            "error_x": {
             "color": "#2a3f5f"
            },
            "error_y": {
             "color": "#2a3f5f"
            },
            "marker": {
             "line": {
              "color": "#E5ECF6",
              "width": 0.5
             }
            },
            "type": "bar"
           }
          ],
          "barpolar": [
           {
            "marker": {
             "line": {
              "color": "#E5ECF6",
              "width": 0.5
             }
            },
            "type": "barpolar"
           }
          ],
          "carpet": [
           {
            "aaxis": {
             "endlinecolor": "#2a3f5f",
             "gridcolor": "white",
             "linecolor": "white",
             "minorgridcolor": "white",
             "startlinecolor": "#2a3f5f"
            },
            "baxis": {
             "endlinecolor": "#2a3f5f",
             "gridcolor": "white",
             "linecolor": "white",
             "minorgridcolor": "white",
             "startlinecolor": "#2a3f5f"
            },
            "type": "carpet"
           }
          ],
          "choropleth": [
           {
            "colorbar": {
             "outlinewidth": 0,
             "ticks": ""
            },
            "type": "choropleth"
           }
          ],
          "contour": [
           {
            "colorbar": {
             "outlinewidth": 0,
             "ticks": ""
            },
            "colorscale": [
             [
              0,
              "#0d0887"
             ],
             [
              0.1111111111111111,
              "#46039f"
             ],
             [
              0.2222222222222222,
              "#7201a8"
             ],
             [
              0.3333333333333333,
              "#9c179e"
             ],
             [
              0.4444444444444444,
              "#bd3786"
             ],
             [
              0.5555555555555556,
              "#d8576b"
             ],
             [
              0.6666666666666666,
              "#ed7953"
             ],
             [
              0.7777777777777778,
              "#fb9f3a"
             ],
             [
              0.8888888888888888,
              "#fdca26"
             ],
             [
              1,
              "#f0f921"
             ]
            ],
            "type": "contour"
           }
          ],
          "contourcarpet": [
           {
            "colorbar": {
             "outlinewidth": 0,
             "ticks": ""
            },
            "type": "contourcarpet"
           }
          ],
          "heatmap": [
           {
            "colorbar": {
             "outlinewidth": 0,
             "ticks": ""
            },
            "colorscale": [
             [
              0,
              "#0d0887"
             ],
             [
              0.1111111111111111,
              "#46039f"
             ],
             [
              0.2222222222222222,
              "#7201a8"
             ],
             [
              0.3333333333333333,
              "#9c179e"
             ],
             [
              0.4444444444444444,
              "#bd3786"
             ],
             [
              0.5555555555555556,
              "#d8576b"
             ],
             [
              0.6666666666666666,
              "#ed7953"
             ],
             [
              0.7777777777777778,
              "#fb9f3a"
             ],
             [
              0.8888888888888888,
              "#fdca26"
             ],
             [
              1,
              "#f0f921"
             ]
            ],
            "type": "heatmap"
           }
          ],
          "heatmapgl": [
           {
            "colorbar": {
             "outlinewidth": 0,
             "ticks": ""
            },
            "colorscale": [
             [
              0,
              "#0d0887"
             ],
             [
              0.1111111111111111,
              "#46039f"
             ],
             [
              0.2222222222222222,
              "#7201a8"
             ],
             [
              0.3333333333333333,
              "#9c179e"
             ],
             [
              0.4444444444444444,
              "#bd3786"
             ],
             [
              0.5555555555555556,
              "#d8576b"
             ],
             [
              0.6666666666666666,
              "#ed7953"
             ],
             [
              0.7777777777777778,
              "#fb9f3a"
             ],
             [
              0.8888888888888888,
              "#fdca26"
             ],
             [
              1,
              "#f0f921"
             ]
            ],
            "type": "heatmapgl"
           }
          ],
          "histogram": [
           {
            "marker": {
             "colorbar": {
              "outlinewidth": 0,
              "ticks": ""
             }
            },
            "type": "histogram"
           }
          ],
          "histogram2d": [
           {
            "colorbar": {
             "outlinewidth": 0,
             "ticks": ""
            },
            "colorscale": [
             [
              0,
              "#0d0887"
             ],
             [
              0.1111111111111111,
              "#46039f"
             ],
             [
              0.2222222222222222,
              "#7201a8"
             ],
             [
              0.3333333333333333,
              "#9c179e"
             ],
             [
              0.4444444444444444,
              "#bd3786"
             ],
             [
              0.5555555555555556,
              "#d8576b"
             ],
             [
              0.6666666666666666,
              "#ed7953"
             ],
             [
              0.7777777777777778,
              "#fb9f3a"
             ],
             [
              0.8888888888888888,
              "#fdca26"
             ],
             [
              1,
              "#f0f921"
             ]
            ],
            "type": "histogram2d"
           }
          ],
          "histogram2dcontour": [
           {
            "colorbar": {
             "outlinewidth": 0,
             "ticks": ""
            },
            "colorscale": [
             [
              0,
              "#0d0887"
             ],
             [
              0.1111111111111111,
              "#46039f"
             ],
             [
              0.2222222222222222,
              "#7201a8"
             ],
             [
              0.3333333333333333,
              "#9c179e"
             ],
             [
              0.4444444444444444,
              "#bd3786"
             ],
             [
              0.5555555555555556,
              "#d8576b"
             ],
             [
              0.6666666666666666,
              "#ed7953"
             ],
             [
              0.7777777777777778,
              "#fb9f3a"
             ],
             [
              0.8888888888888888,
              "#fdca26"
             ],
             [
              1,
              "#f0f921"
             ]
            ],
            "type": "histogram2dcontour"
           }
          ],
          "mesh3d": [
           {
            "colorbar": {
             "outlinewidth": 0,
             "ticks": ""
            },
            "type": "mesh3d"
           }
          ],
          "parcoords": [
           {
            "line": {
             "colorbar": {
              "outlinewidth": 0,
              "ticks": ""
             }
            },
            "type": "parcoords"
           }
          ],
          "pie": [
           {
            "automargin": true,
            "type": "pie"
           }
          ],
          "scatter": [
           {
            "marker": {
             "colorbar": {
              "outlinewidth": 0,
              "ticks": ""
             }
            },
            "type": "scatter"
           }
          ],
          "scatter3d": [
           {
            "line": {
             "colorbar": {
              "outlinewidth": 0,
              "ticks": ""
             }
            },
            "marker": {
             "colorbar": {
              "outlinewidth": 0,
              "ticks": ""
             }
            },
            "type": "scatter3d"
           }
          ],
          "scattercarpet": [
           {
            "marker": {
             "colorbar": {
              "outlinewidth": 0,
              "ticks": ""
             }
            },
            "type": "scattercarpet"
           }
          ],
          "scattergeo": [
           {
            "marker": {
             "colorbar": {
              "outlinewidth": 0,
              "ticks": ""
             }
            },
            "type": "scattergeo"
           }
          ],
          "scattergl": [
           {
            "marker": {
             "colorbar": {
              "outlinewidth": 0,
              "ticks": ""
             }
            },
            "type": "scattergl"
           }
          ],
          "scattermapbox": [
           {
            "marker": {
             "colorbar": {
              "outlinewidth": 0,
              "ticks": ""
             }
            },
            "type": "scattermapbox"
           }
          ],
          "scatterpolar": [
           {
            "marker": {
             "colorbar": {
              "outlinewidth": 0,
              "ticks": ""
             }
            },
            "type": "scatterpolar"
           }
          ],
          "scatterpolargl": [
           {
            "marker": {
             "colorbar": {
              "outlinewidth": 0,
              "ticks": ""
             }
            },
            "type": "scatterpolargl"
           }
          ],
          "scatterternary": [
           {
            "marker": {
             "colorbar": {
              "outlinewidth": 0,
              "ticks": ""
             }
            },
            "type": "scatterternary"
           }
          ],
          "surface": [
           {
            "colorbar": {
             "outlinewidth": 0,
             "ticks": ""
            },
            "colorscale": [
             [
              0,
              "#0d0887"
             ],
             [
              0.1111111111111111,
              "#46039f"
             ],
             [
              0.2222222222222222,
              "#7201a8"
             ],
             [
              0.3333333333333333,
              "#9c179e"
             ],
             [
              0.4444444444444444,
              "#bd3786"
             ],
             [
              0.5555555555555556,
              "#d8576b"
             ],
             [
              0.6666666666666666,
              "#ed7953"
             ],
             [
              0.7777777777777778,
              "#fb9f3a"
             ],
             [
              0.8888888888888888,
              "#fdca26"
             ],
             [
              1,
              "#f0f921"
             ]
            ],
            "type": "surface"
           }
          ],
          "table": [
           {
            "cells": {
             "fill": {
              "color": "#EBF0F8"
             },
             "line": {
              "color": "white"
             }
            },
            "header": {
             "fill": {
              "color": "#C8D4E3"
             },
             "line": {
              "color": "white"
             }
            },
            "type": "table"
           }
          ]
         },
         "layout": {
          "annotationdefaults": {
           "arrowcolor": "#2a3f5f",
           "arrowhead": 0,
           "arrowwidth": 1
          },
          "coloraxis": {
           "colorbar": {
            "outlinewidth": 0,
            "ticks": ""
           }
          },
          "colorscale": {
           "diverging": [
            [
             0,
             "#8e0152"
            ],
            [
             0.1,
             "#c51b7d"
            ],
            [
             0.2,
             "#de77ae"
            ],
            [
             0.3,
             "#f1b6da"
            ],
            [
             0.4,
             "#fde0ef"
            ],
            [
             0.5,
             "#f7f7f7"
            ],
            [
             0.6,
             "#e6f5d0"
            ],
            [
             0.7,
             "#b8e186"
            ],
            [
             0.8,
             "#7fbc41"
            ],
            [
             0.9,
             "#4d9221"
            ],
            [
             1,
             "#276419"
            ]
           ],
           "sequential": [
            [
             0,
             "#0d0887"
            ],
            [
             0.1111111111111111,
             "#46039f"
            ],
            [
             0.2222222222222222,
             "#7201a8"
            ],
            [
             0.3333333333333333,
             "#9c179e"
            ],
            [
             0.4444444444444444,
             "#bd3786"
            ],
            [
             0.5555555555555556,
             "#d8576b"
            ],
            [
             0.6666666666666666,
             "#ed7953"
            ],
            [
             0.7777777777777778,
             "#fb9f3a"
            ],
            [
             0.8888888888888888,
             "#fdca26"
            ],
            [
             1,
             "#f0f921"
            ]
           ],
           "sequentialminus": [
            [
             0,
             "#0d0887"
            ],
            [
             0.1111111111111111,
             "#46039f"
            ],
            [
             0.2222222222222222,
             "#7201a8"
            ],
            [
             0.3333333333333333,
             "#9c179e"
            ],
            [
             0.4444444444444444,
             "#bd3786"
            ],
            [
             0.5555555555555556,
             "#d8576b"
            ],
            [
             0.6666666666666666,
             "#ed7953"
            ],
            [
             0.7777777777777778,
             "#fb9f3a"
            ],
            [
             0.8888888888888888,
             "#fdca26"
            ],
            [
             1,
             "#f0f921"
            ]
           ]
          },
          "colorway": [
           "#636efa",
           "#EF553B",
           "#00cc96",
           "#ab63fa",
           "#FFA15A",
           "#19d3f3",
           "#FF6692",
           "#B6E880",
           "#FF97FF",
           "#FECB52"
          ],
          "font": {
           "color": "#2a3f5f"
          },
          "geo": {
           "bgcolor": "white",
           "lakecolor": "white",
           "landcolor": "#E5ECF6",
           "showlakes": true,
           "showland": true,
           "subunitcolor": "white"
          },
          "hoverlabel": {
           "align": "left"
          },
          "hovermode": "closest",
          "mapbox": {
           "style": "light"
          },
          "paper_bgcolor": "white",
          "plot_bgcolor": "#E5ECF6",
          "polar": {
           "angularaxis": {
            "gridcolor": "white",
            "linecolor": "white",
            "ticks": ""
           },
           "bgcolor": "#E5ECF6",
           "radialaxis": {
            "gridcolor": "white",
            "linecolor": "white",
            "ticks": ""
           }
          },
          "scene": {
           "xaxis": {
            "backgroundcolor": "#E5ECF6",
            "gridcolor": "white",
            "gridwidth": 2,
            "linecolor": "white",
            "showbackground": true,
            "ticks": "",
            "zerolinecolor": "white"
           },
           "yaxis": {
            "backgroundcolor": "#E5ECF6",
            "gridcolor": "white",
            "gridwidth": 2,
            "linecolor": "white",
            "showbackground": true,
            "ticks": "",
            "zerolinecolor": "white"
           },
           "zaxis": {
            "backgroundcolor": "#E5ECF6",
            "gridcolor": "white",
            "gridwidth": 2,
            "linecolor": "white",
            "showbackground": true,
            "ticks": "",
            "zerolinecolor": "white"
           }
          },
          "shapedefaults": {
           "line": {
            "color": "#2a3f5f"
           }
          },
          "ternary": {
           "aaxis": {
            "gridcolor": "white",
            "linecolor": "white",
            "ticks": ""
           },
           "baxis": {
            "gridcolor": "white",
            "linecolor": "white",
            "ticks": ""
           },
           "bgcolor": "#E5ECF6",
           "caxis": {
            "gridcolor": "white",
            "linecolor": "white",
            "ticks": ""
           }
          },
          "title": {
           "x": 0.05
          },
          "xaxis": {
           "automargin": true,
           "gridcolor": "white",
           "linecolor": "white",
           "ticks": "",
           "title": {
            "standoff": 15
           },
           "zerolinecolor": "white",
           "zerolinewidth": 2
          },
          "yaxis": {
           "automargin": true,
           "gridcolor": "white",
           "linecolor": "white",
           "ticks": "",
           "title": {
            "standoff": 15
           },
           "zerolinecolor": "white",
           "zerolinewidth": 2
          }
         }
        }
       }
      },
      "text/html": [
       "<div>\n",
       "        \n",
       "        \n",
       "            <div id=\"94f98f02-e40f-46b1-97d7-40d6c4775ae9\" class=\"plotly-graph-div\" style=\"height:525px; width:100%;\"></div>\n",
       "            <script type=\"text/javascript\">\n",
       "                require([\"plotly\"], function(Plotly) {\n",
       "                    window.PLOTLYENV=window.PLOTLYENV || {};\n",
       "                    \n",
       "                if (document.getElementById(\"94f98f02-e40f-46b1-97d7-40d6c4775ae9\")) {\n",
       "                    Plotly.newPlot(\n",
       "                        '94f98f02-e40f-46b1-97d7-40d6c4775ae9',\n",
       "                        [{\"dimensions\": [{\"label\": \"Drug\", \"values\": [7.853856001107152, 6.769895570759813, 5.428322371027815, 2.1956265150457526, 2.3004600920184037, 7.3404040112129, 11.158999031104875, 5.617269956422076, 5.921558251754419, 3.218590211833455, 17.974064174904193, 26.66544151428834, 4.270969272748843, 14.829425085835343, 4.779446790942869, 2.028694760332255, 4.541308987654785, 5.817688628738668, 11.625530175277225, 3.685261766112471, 14.266419044403175, 3.451741163105693, 28.867924528301888, 16.941440022401906, 25.630712472781237, 2.2487551533972265, 10.526567335380498, 17.20856256355435, 56.122313434818416, 31.348684968766566, 10.251790846308927, 1.943817406571357, 31.887508848703263, 40.602388632202945, 20.263861343450895, 1.9427683305906014, 6.920700308959836, 5.220437753650837, 37.67815751837057, 15.101435508728397, 20.89740357953113, 20.498547427015826, 14.291926366140022, 0.40422005739924816, 11.07994059265895, 7.867189005201978, 13.088552915766739, 15.132558832290737, 2.8166926098880736, 19.32125682965925, 32.485924493109046, 7.427303769111986, 37.82844289949903, 34.72813946526034, 20.572775058908825, 4.479184963990866, 7.677376365269287, 8.843452791568186, 3.2522236589475333, 21.64473244705725, 9.349154980222941, 5.954406260632868, 2.4551434483184584, 3.66625930452172, 38.53230486165169, 0.7404930250334417, 20.399555197668622, 1.6842578037278237, 0.919497954117052, 3.1173310340253364, 0.6202649417394, 3.723535204332841, 13.327140202944118, 8.582623297468748, 8.560945780676722, 3.781925343811395, 5.702929231832714, 35.218165627782724, 11.108821104699093, 12.850752338348922, 17.07000291568373, 11.29804134392422, 4.129434064446249, 19.743406985032074, 12.659828357383319, 25.768269372151153, 1.9047266809675272, 11.516064817398746, 8.987441130298272, 3.090184597869399, 14.39127072772575, 6.6437204834707435, 23.264401772525847, 3.762319551793236, 0.5323692909583885, 1.658833287254631, 2.638825149150987, 43.32722553061536, 19.54575983113341, 8.453889045918237, 8.366013071895425, 17.07097933513028, 9.62699370909322, 2.5560361777428238, 58.83102973427857, 1.3709826254317277, 66.99266503667482, 4.712785085643986, 3.808399935632677, 28.41674369470487, 48.2513880144239, 30.092458548072653, 6.397495119735597, 11.725986362382248, 11.81169757489301, 8.220679576178297, 3.3335858777180087, 4.996444837327286, 3.086862885857861, 8.279809498842138, 12.767323554106781, 1.7707263519495697, 3.1293936232935735, 29.184280569907624, 0.49263510517759496, 11.145466311929244, 5.959331588483995, 4.444236526946107, 11.337935520111161, 4.862345327118473, 6.131738329007261, 3.358494330462541, 4.260445436916025, 16.294388588975288, 0.9068466925285908, 7.4267332750263115, 4.01874142922444, 3.894230769230769, 21.46779830254618, 1.2738853503184713, 2.000571591883395, 5.251237070271363, 6.024817460000798, 2.1191542647979578, 7.844413114991143, 5.207507867865148, 45.424683247301736, 5.068353017762485, 17.476954751766414, 15.575012628388617, 9.499683343888536, 25.042422995834833, 8.698173383589447, 20.976819237278132, 5.21557719054242, 3.9454925234574447, 11.544872718292757, 17.275923335727516, 4.19350007488393, 6.016745908192031, 22.628495842781557, 0.23754097581832867, 12.524191318772463, 11.861364519531467, 2.9628182587745004, 2.498487244051453, 12.567358086661253, 2.1566160733249466, 3.2331656317514996, 14.431137724550897, 8.88888888888889, 3.828050524308866, 10.729766219000924, 10.816901408450704, 39.63647472124637, 20.822027362828823, 32.10038448928497, 22.353468899521534, 5.504991192014092, 2.9873039581777445, 1.5923049426445262, 17.318699955969407, 12.725505679402294, 3.097007813988946, 14.133465080989518, 8.215050726172823, 4.523381893168363, 2.0656385517436044, 454.8793284365163, 911.4832535885167, 1243.9156300703082, 1385.3211009174313]}, {\"label\": \"Non Violent Other\", \"values\": [45.42781026191053, 5.329492257832193, 5.071717251763214, 3.5028492378764606, 4.700940188037608, 19.911568361124758, 31.338745781965187, 36.07143756769692, 5.467992087790251, 13.262417823228635, 26.41664191874196, 25.911972801617203, 56.07624471072093, 12.455256044999635, 6.526088475340595, 4.508210578516122, 9.91942232293126, 29.373973873938183, 21.666922172824368, 4.810532534391088, 14.744780235241151, 40.634421287193604, 50.120068610634654, 37.348174594840565, 37.780335917671046, 10.815441452053328, 30.241477781893348, 26.67327197350924, 70.28240482452645, 59.078440863932876, 22.519624243984044, 3.197893152746426, 33.46418688461291, 56.11978031557842, 31.847316834813604, 5.554031815688425, 10.298661174047375, 11.08259044711922, 31.217635744932682, 20.781436284155124, 55.734812200655405, 36.62921804847328, 53.57298159153501, 3.3954484821536846, 12.635847143968505, 12.105837775351615, 78.8768898488121, 40.889683248932585, 6.263434882514269, 16.770368327616815, 56.4401920486339, 15.082972661432393, 115.12115325631326, 36.98500794509822, 28.72938191045858, 5.650213712746647, 20.540603181041224, 33.281689981566714, 8.933819207711297, 48.90106219520342, 36.65747732630149, 17.37174397943367, 15.363947994194126, 9.360071103210755, 52.47328568395726, 3.212784253774126, 86.50638444725641, 4.996631484392544, 1.9309457036458093, 9.550971678715925, 1.8164901865225287, 5.323732151649433, 53.55866800057167, 8.893587909695876, 10.191602119853242, 5.1080550098231825, 19.09617212477318, 35.841495992876226, 28.194558944765042, 37.60336180018978, 56.11365865295412, 32.11801272879767, 21.36925715317267, 46.31503920171062, 24.466185140111584, 97.33862667254816, 3.2454323544640875, 15.739242060612826, 42.189952904238616, 6.261689843051151, 118.13729701864422, 29.216361162250863, 23.664451009354995, 9.201324990798675, 4.556090676108999, 8.60316479370294, 4.321554229769007, 62.146892655367225, 38.04981016215031, 12.796464270113317, 27.01525054466231, 25.371154751208657, 13.026625150918218, 3.14589068029886, 45.289947467741115, 2.9792507052651005, 149.63325183374084, 10.106936689694331, 7.581040247456596, 54.06047801399709, 65.40362123900559, 41.326461675063214, 27.38746400201009, 25.738047376926414, 16.83309557774608, 37.86079649251005, 4.444781170290678, 10.838441877894574, 3.2663316582914574, 25.888058723292698, 43.01871882254161, 2.3727733116124234, 3.537575400244909, 84.51542195083765, 1.576432336568304, 26.425541094412885, 8.818200120797261, 9.215943113772454, 21.59677157090275, 6.639616377720398, 26.445472670503708, 6.484221727130649, 5.523887876829053, 59.23431231736913, 2.0152148722857572, 31.159667353503608, 8.723144903245467, 8.60576923076923, 29.006490264603094, 14.685067232837932, 2.3816328474802324, 16.86454982183303, 14.603199936160875, 3.1787313971969366, 22.792177276506525, 14.762152738469897, 90.00469263256687, 6.168821104187979, 144.30770670534838, 19.6441600718415, 30.30585255001304, 36.843729109888415, 35.16170695063128, 145.53898225038373, 19.62050466918339, 4.940154504161002, 28.440310332763975, 11.529883189052281, 11.756776995656733, 30.96730761139395, 55.09889140841522, 0.3800655613093259, 25.57367984517556, 23.038063692381712, 5.111675457446116, 13.097538599675977, 18.841809994832804, 17.906448608819254, 7.229297919593891, 22.15568862275449, 15.11111111111111, 7.283722592945663, 17.006561027025747, 12.0, 92.81604806272594, 26.248893204992715, 73.23179636970582, 27.63157894736842, 8.624486200822078, 5.3107625923159905, 3.249601923764339, 38.600153291694525, 14.912227419060924, 7.956927768248523, 17.06249779440308, 19.37245486429866, 10.776292157254042, 3.746375509994612, 598.1112277019937, 2894.7368421052633, 1537.587885343429, 2470.183486238532]}, {\"label\": \"Theft\", \"values\": [19.27135591461094, 1.4404033129276197, 1.5452888501466044, 1.5483608950033632, 6.601320264052811, 3.554605092044042, 25.425144499014397, 78.69215849265726, 4.283680437439367, 8.925310445580715, 18.2710392714211, 23.357530092805295, 24.162613200458736, 3.2507853020673534, 1.7625202451649782, 2.5358684504153186, 7.587652904839362, 14.133771147119708, 19.188512443149882, 1.772301460038822, 9.59536271033823, 19.18119456459999, 20.154373927958833, 26.724771605586476, 16.712666953301618, 2.034587995930824, 10.347340876775835, 6.674836388287748, 38.455407667171436, 44.579674065878336, 21.96199545318063, 0.5225315609062787, 13.192612137203167, 45.20094150466394, 21.03992411830646, 16.044980800877674, 14.088568486096808, 4.8735648132089215, 32.8450954283178, 13.414882377458346, 30.123519032014116, 16.496353330760012, 46.67343093201914, 1.1722381664578196, 5.02133477922629, 1.9266585318861988, 35.593952483801296, 8.08261344454374, 3.1131865688236604, 21.389544804288253, 42.72736693033056, 14.963352834989887, 51.698871962648674, 22.361421366556893, 29.22784121805329, 2.0200245916037236, 15.731378740910275, 42.38524432582808, 3.0563065710591277, 23.715679070078163, 12.90503016500859, 11.634720804506445, 8.075723418053798, 6.832574158426842, 27.032764843252423, 3.1769539461112175, 120.36504467195827, 2.807096339546373, 0.5516987724702312, 14.54754482545157, 0.3987417482610429, 5.7237813884785815, 120.33728740888952, 2.923067354935008, 9.682022013860578, 1.9155206286836937, 21.486793974480833, 11.798753339269812, 17.84830997526793, 20.30635759793954, 41.34969650383015, 7.499136612561054, 16.585431898185757, 100.66999287241624, 15.093802848066254, 29.480958682546685, 1.5348768400029589, 17.041543413145803, 19.740973312401884, 3.8491773061180234, 41.54136953346508, 14.568158168574403, 18.433037912358444, 1.922054553633501, 10.412152876651273, 22.247881734944464, 2.7918005201162615, 37.753855550465715, 16.379511218937182, 8.274019066217848, 34.248366013071895, 30.74059812604287, 6.799262883649996, 1.2124786996985188, 15.68317437649819, 1.3182525244535843, 303.9469088368844, 5.886249645121605, 6.6691698403332795, 28.258286016109864, 43.00459809589224, 19.41822533634451, 30.05469761688475, 42.66682432698751, 8.216833095577746, 25.438436244062842, 3.0305326161072808, 3.266906239790918, 1.8664752333094041, 22.283392318783587, 19.08924778979602, 0.9561922300527677, 3.9457571771962447, 30.656020040707688, 0.7389526577663924, 8.808513698137629, 3.784980873766861, 2.6665419161676644, 27.406170083814985, 2.4144059555346904, 15.950043260730544, 8.944900741528945, 2.4975024975024978, 42.34559952454064, 0.4534233462642954, 9.205591544493693, 2.875971354563462, 3.269230769230769, 7.63854218671992, 14.791224345364473, 0.3810612555968372, 12.52218070603171, 3.15205681682161, 1.252227520107884, 3.1630698044319128, 11.411234632191455, 50.08603159705928, 4.091881335441272, 74.6806419914838, 15.097940169501038, 14.119137205230414, 13.858178639378824, 13.192229631777327, 43.80337675626747, 3.3777071329227097, 4.60860051059315, 10.721708888111456, 5.9728575208861, 7.6381608506814445, 15.020827197374512, 24.36067019400353, 0.2850491709819944, 11.07271219242466, 12.157436020799024, 23.344403203750733, 38.92174659873904, 16.97792869269949, 57.689479961442316, 14.858964480502804, 14.630738522954092, 7.897435897435898, 7.26882745471878, 9.071744948956631, 6.140845070422535, 48.6991497377934, 25.6490817171746, 36.33274716103842, 39.74282296650718, 4.73429242513212, 3.4022072857024312, 2.5346895005361842, 23.2383685849872, 11.146206645204398, 3.0493615399275775, 8.769453364858665, 8.14443424428595, 3.9025255548903526, 2.899592004310898, 246.0650577124869, 2363.6363636363635, 1091.941590048675, 2727.064220183486]}, {\"label\": \"Traffic\", \"values\": [17.610628654464936, 9.074540871444004, 7.647198668674221, 2.957115479801505, 4.150830166033207, 7.138109412478687, 6.581804817747486, 6.322577394896597, 4.888435322724925, 16.298392987582176, 7.5657941255497585, 10.658825691445374, 7.236920156602207, 7.012930089853167, 1.3496776652164248, 2.1526705512414486, 4.381469954963002, 11.06431579698765, 10.961214165261383, 3.685261766112471, 7.935167989194666, 6.07331673002141, 13.550600343053175, 8.575728936959642, 8.765481754760684, 4.283343149328051, 13.023789325272126, 15.383411988631918, 28.731967801067984, 13.507595140953828, 20.803843349204307, 0.1672100994900092, 21.94478409164039, 21.924853979600734, 17.332068638440976, 4.616931797403547, 3.5015447991761075, 4.509348225744909, 19.82541796123687, 7.395632408960056, 29.745399546256614, 8.613859374682567, 11.566893752717785, 9.58001536036218, 12.093637285178811, 2.3762121893263117, 58.488120950323975, 15.768046867242578, 1.5565932844118302, 8.652338027197986, 20.102932541190288, 3.4254768481263187, 14.92689909007259, 20.334845588743292, 6.661228928765633, 3.5716376837051347, 17.006112929860645, 9.114863107421941, 3.6440578347243444, 15.966330416193466, 11.42674497582804, 4.867490832104647, 6.022049967573577, 2.583046328185757, 12.1364376194183, 5.326772405885726, 19.939414854864065, 5.221199191556254, 1.7930210105282516, 6.278879529526209, 1.1076159673917858, 4.6159527326440175, 9.57553237101615, 12.74954910131227, 4.0086968338089415, 4.81335952848723, 7.085457530458826, 24.755120213713266, 15.1277823577906, 13.257421716144774, 14.419381344925386, 15.343628200700579, 10.402563408249842, 10.534568781183179, 17.480362251268353, 12.755477135715335, 2.0526666173533545, 8.371937266283418, 14.795918367346939, 3.0359708329944977, 12.844746112208954, 13.394167400410897, 9.662727720334809, 4.9482681061628435, 4.419903183073132, 2.8297744311990765, 1.2238029677221967, 16.64376240647427, 13.172142494894254, 5.550273659326258, 24.226579520697168, 23.403071920592136, 18.586770032407703, 2.785424039847949, 14.51012393532922, 2.610139998418097, 50.5763185469787, 6.908299422731144, 5.953977364158129, 17.932127294335135, 16.274588365481847, 14.804949138147354, 9.663889908966157, 10.5435339560916, 9.586305278174038, 27.310924369747898, 4.87410662423921, 5.265484174721832, 4.881550610193826, 7.44964390265216, 12.668543487924136, 3.151892906470234, 3.2654542156106854, 15.093157977141068, 1.379378294497266, 24.879557057596895, 8.576605596939803, 5.145958083832335, 21.41938535676802, 2.380872539485597, 17.7180905089719, 5.021115286137066, 2.8207087030616442, 28.973304937843594, 0.7053252053000151, 5.4996368164366505, 6.856620447965869, 3.3653846153846154, 21.018472291562656, 10.686482661004954, 1.476612365437744, 5.005986987319129, 7.461197781590393, 3.9493329480325574, 7.428695369265807, 8.173523218692688, 17.018614109181918, 3.7508912241544996, 21.103364372280193, 11.30942358421732, 7.618373505196885, 13.755335013112562, 10.464166161469727, 123.57825967176986, 9.785416252731968, 3.547627731176022, 15.207951762599551, 6.955732809133179, 2.920473266437023, 13.800647957251652, 12.692113882590073, 0.5700983419639888, 14.915675974564556, 15.525249347717475, 4.916324803021424, 6.71468446838828, 8.488964346349745, 6.208440211086967, 4.676003565547146, 7.944111776447105, 8.581196581196581, 7.000714966634891, 9.829697529548307, 7.436619718309859, 25.940634387251162, 11.339293364942446, 16.45256475216834, 10.481459330143542, 8.220786846741046, 7.011866235167206, 4.094498423943067, 13.355946576213695, 5.527546619692644, 5.431675242995998, 6.510922115961464, 10.286467528187746, 4.87815694361294, 2.7071412075645997, 403.98740818467996, 1315.7894736842106, 857.2201189832342, 1784.4036697247707]}, {\"label\": \"Violent\", \"values\": [50.37539355776217, 3.204897371263954, 2.813218163087408, 3.084030307260797, 4.050810162032406, 9.363349998555039, 33.37676656309512, 24.207158870500518, 2.595406382683852, 10.431884587289993, 14.509354715540283, 22.14462923826151, 64.02499307944794, 12.199576302140404, 5.049382323986154, 4.1700947851274135, 10.605789933901859, 26.982654008137626, 14.742705299197711, 4.472951303907503, 15.391974787551355, 12.365098090619128, 33.65351629502573, 34.89796632713781, 33.716592002884845, 7.0139744070246826, 20.037518072001244, 10.32513753813261, 54.06338832655881, 68.11423829610676, 15.141766396431176, 3.8667335507064626, 36.971491086942535, 42.236945340423674, 26.8747664625909, 7.131102578167855, 10.751802265705459, 12.539456796975267, 28.899738620111457, 16.16764725838188, 44.618099319384925, 28.502935619527456, 25.858820118857807, 3.5975585108533084, 7.260897239444589, 8.316742662642092, 82.28941684665227, 24.823751365306325, 5.448076495441406, 11.030869198021339, 48.133052398880864, 9.64570782313665, 139.04508741437482, 41.03815950072542, 24.67373572593801, 3.630189121142924, 27.55164122026827, 36.28982098227917, 8.816268954978254, 33.80319326608324, 41.29210116265133, 14.649729688858644, 13.171304159846823, 7.1103210754360635, 99.14372655862996, 4.932639021593732, 81.06139039073584, 3.873792948573995, 2.1608201921750725, 5.770378722557537, 2.348145850870586, 5.816100443131462, 53.66585679576961, 6.530256856769699, 8.255197717081126, 2.8487229862475445, 17.281603732826404, 26.17987533392698, 30.87386644682605, 31.34065338213366, 68.67760489834866, 24.372193990823426, 23.53551764599693, 28.353528153955807, 21.131323987292756, 63.37303337744449, 3.827945853983283, 15.6462205354319, 56.00470957613815, 6.668293079612914, 61.34547641549962, 27.72219109367913, 18.894633185622844, 5.193636772584141, 3.392306644711592, 3.9519263608125033, 3.1742389475294477, 72.95006871278058, 27.92055594391217, 10.329675977079425, 30.544662309368192, 15.594917212167886, 12.105229713414246, 5.013763271726308, 44.269903605855056, 3.664742017980964, 86.028641285365, 9.179521150752342, 7.1519247617515065, 87.4950481975439, 80.38082155190507, 62.86795220723068, 39.022787452405346, 14.760947538528242, 10.95577746077033, 30.873218852758495, 2.525443846756067, 12.587197570959125, 3.4099066762383345, 27.177000043692924, 61.070775917419866, 2.868576690158303, 4.3085854233752094, 81.03961171128856, 1.083797231390709, 21.60782339828863, 7.610227501509965, 9.636976047904191, 13.156144214992091, 8.416887428322323, 43.825000940450664, 12.40315232933196, 9.372979961215256, 51.55762468426527, 1.511411154214318, 29.365985265124, 8.437452384580222, 9.711538461538462, 20.868696954568147, 47.91224345364473, 2.429265504429837, 18.639006304369783, 15.760284084108049, 1.6375282955256947, 12.254636156599068, 13.06405234677474, 68.3247301736274, 5.6108372857187145, 46.6052126713771, 20.96312510523657, 49.02581678649928, 25.633773846865843, 32.064630064050185, 83.23822267700422, 12.219352274985097, 6.432147475216339, 19.138559051715266, 8.278834158696556, 8.162348360041936, 35.99528758362435, 64.92504409171076, 0.5700983419639888, 14.08625933093724, 16.7095353527877, 3.2884026828156543, 10.247701586929788, 20.244334539012325, 17.334618589377033, 7.7052078139872195, 26.047904191616766, 17.94871794871795, 3.5152526215443283, 16.402567564366755, 7.380281690140845, 58.37279160938853, 39.58755819599554, 73.85770915919048, 20.648923444976077, 11.70728126834997, 5.103310928553647, 2.924641731387905, 56.815772736909054, 8.86837149972666, 8.05222031637126, 10.551575678441614, 17.41873219876186, 9.179804430253443, 3.810525775576711, 584.9947534102834, 2921.0526315789475, 1396.97133585722, 1844.0366972477063]}, {\"label\": \"Population\", \"values\": [28903, 27770, 25238, 78793, 19996, 34603, 29931, 39699, 79371, 43808, 70713, 54415, 25287, 27378, 62978, 88727, 106357, 28018, 39138, 35547, 35538, 22887, 58300, 57138, 72101, 18677, 83693, 38353, 75282, 43383, 23313, 47844, 31078, 45884, 34791, 43752, 24275, 57658, 20277, 103169, 39670, 49223, 34495, 24739, 42419, 62284, 23150, 50355, 26982, 58019, 57902, 91958, 29343, 43423, 44136, 34158, 34517, 88427, 25521, 29938, 50058, 105804, 64762, 72008, 28262, 83728, 26079, 17812, 21751, 45231, 22571, 32496, 27988, 16079, 29436, 40720, 34719, 22460, 48520, 36885, 37727, 20269, 44316, 70150, 63271, 27204, 108152, 53751, 25480, 36891, 23278, 37479, 32496, 24453, 80771, 61489, 26148, 26196, 72957, 38917, 22950, 46746, 31474, 30516, 39214, 37929, 28630, 52835, 55929, 37865, 52413, 51807, 51739, 50742, 17525, 21896, 39597, 52037, 27860, 45774, 40494, 28237, 22049, 31935, 20299, 27814, 24835, 21376, 67649, 29821, 26583, 30073, 34034, 20191, 19849, 67459, 52504, 20800, 20030, 28260, 62982, 69317, 25063, 20763, 55326, 44167, 31965, 64518, 42742, 35634, 53686, 38894, 75878, 25409, 20132, 30161, 48593, 26453, 13354, 47534, 63504, 21049, 72340, 54041, 30714, 51231, 54188, 61207, 132378, 50100, 29250, 67136, 84438, 17750, 39282, 35011, 33551, 66880, 27248, 24102, 30773, 61321, 32926, 20988, 56674, 42483, 45099, 77942, 1906, 418, 1849, 436]}, {\"label\": \"Cluster\", \"values\": [3, 2, 2, 5, 2, 2, 3, 3, 5, 2, 5, 3, 3, 2, 5, 5, 5, 3, 3, 2, 2, 2, 3, 3, 3, 2, 5, 3, 1, 1, 3, 2, 3, 1, 3, 2, 2, 5, 3, 5, 1, 3, 3, 2, 2, 5, 1, 3, 2, 3, 1, 5, 1, 3, 3, 2, 3, 5, 2, 3, 3, 5, 5, 5, 1, 5, 1, 2, 2, 2, 2, 2, 1, 2, 2, 2, 2, 3, 3, 3, 1, 3, 3, 3, 3, 1, 5, 3, 3, 2, 1, 3, 3, 2, 5, 5, 2, 1, 3, 2, 3, 3, 2, 2, 1, 2, 4, 2, 5, 1, 1, 1, 3, 3, 2, 3, 2, 2, 2, 3, 3, 2, 2, 1, 2, 3, 2, 2, 3, 2, 3, 2, 2, 1, 2, 5, 2, 2, 3, 3, 5, 5, 2, 2, 5, 2, 1, 5, 1, 3, 3, 3, 5, 4, 2, 2, 3, 2, 2, 3, 1, 2, 5, 3, 2, 2, 3, 5, 5, 3, 2, 5, 5, 2, 1, 3, 1, 3, 2, 2, 2, 3, 2, 2, 5, 2, 2, 5, 6, 6, 6, 6]}], \"domain\": {\"x\": [0.0, 1.0], \"y\": [0.0, 1.0]}, \"line\": {\"color\": [3, 2, 2, 5, 2, 2, 3, 3, 5, 2, 5, 3, 3, 2, 5, 5, 5, 3, 3, 2, 2, 2, 3, 3, 3, 2, 5, 3, 1, 1, 3, 2, 3, 1, 3, 2, 2, 5, 3, 5, 1, 3, 3, 2, 2, 5, 1, 3, 2, 3, 1, 5, 1, 3, 3, 2, 3, 5, 2, 3, 3, 5, 5, 5, 1, 5, 1, 2, 2, 2, 2, 2, 1, 2, 2, 2, 2, 3, 3, 3, 1, 3, 3, 3, 3, 1, 5, 3, 3, 2, 1, 3, 3, 2, 5, 5, 2, 1, 3, 2, 3, 3, 2, 2, 1, 2, 4, 2, 5, 1, 1, 1, 3, 3, 2, 3, 2, 2, 2, 3, 3, 2, 2, 1, 2, 3, 2, 2, 3, 2, 3, 2, 2, 1, 2, 5, 2, 2, 3, 3, 5, 5, 2, 2, 5, 2, 1, 5, 1, 3, 3, 3, 5, 4, 2, 2, 3, 2, 2, 3, 1, 2, 5, 3, 2, 2, 3, 5, 5, 3, 2, 5, 5, 2, 1, 3, 1, 3, 2, 2, 2, 3, 2, 2, 5, 2, 2, 5, 6, 6, 6, 6], \"coloraxis\": \"coloraxis\"}, \"name\": \"\", \"type\": \"parcoords\"}],\n",
       "                        {\"coloraxis\": {\"cmid\": 2, \"colorbar\": {\"title\": {\"text\": \"Cluster\"}}, \"colorscale\": [[0.0, \"rgb(0, 147, 146)\"], [0.16666666666666666, \"rgb(114, 170, 161)\"], [0.3333333333333333, \"rgb(177, 199, 179)\"], [0.5, \"rgb(241, 234, 200)\"], [0.6666666666666666, \"rgb(229, 185, 173)\"], [0.8333333333333334, \"rgb(217, 137, 148)\"], [1.0, \"rgb(208, 88, 126)\"]]}, \"legend\": {\"tracegroupgap\": 0}, \"margin\": {\"t\": 60}, \"template\": {\"data\": {\"bar\": [{\"error_x\": {\"color\": \"#2a3f5f\"}, \"error_y\": {\"color\": \"#2a3f5f\"}, \"marker\": {\"line\": {\"color\": \"#E5ECF6\", \"width\": 0.5}}, \"type\": \"bar\"}], \"barpolar\": [{\"marker\": {\"line\": {\"color\": \"#E5ECF6\", \"width\": 0.5}}, \"type\": \"barpolar\"}], \"carpet\": [{\"aaxis\": {\"endlinecolor\": \"#2a3f5f\", \"gridcolor\": \"white\", \"linecolor\": \"white\", \"minorgridcolor\": \"white\", \"startlinecolor\": \"#2a3f5f\"}, \"baxis\": {\"endlinecolor\": \"#2a3f5f\", \"gridcolor\": \"white\", \"linecolor\": \"white\", \"minorgridcolor\": \"white\", \"startlinecolor\": \"#2a3f5f\"}, \"type\": \"carpet\"}], \"choropleth\": [{\"colorbar\": {\"outlinewidth\": 0, \"ticks\": \"\"}, \"type\": \"choropleth\"}], \"contour\": [{\"colorbar\": {\"outlinewidth\": 0, \"ticks\": \"\"}, \"colorscale\": [[0.0, \"#0d0887\"], [0.1111111111111111, \"#46039f\"], [0.2222222222222222, \"#7201a8\"], [0.3333333333333333, \"#9c179e\"], [0.4444444444444444, \"#bd3786\"], [0.5555555555555556, \"#d8576b\"], [0.6666666666666666, \"#ed7953\"], [0.7777777777777778, \"#fb9f3a\"], [0.8888888888888888, \"#fdca26\"], [1.0, \"#f0f921\"]], \"type\": \"contour\"}], \"contourcarpet\": [{\"colorbar\": {\"outlinewidth\": 0, \"ticks\": \"\"}, \"type\": \"contourcarpet\"}], \"heatmap\": [{\"colorbar\": {\"outlinewidth\": 0, \"ticks\": \"\"}, \"colorscale\": [[0.0, \"#0d0887\"], [0.1111111111111111, \"#46039f\"], [0.2222222222222222, \"#7201a8\"], [0.3333333333333333, \"#9c179e\"], [0.4444444444444444, \"#bd3786\"], [0.5555555555555556, \"#d8576b\"], [0.6666666666666666, \"#ed7953\"], [0.7777777777777778, \"#fb9f3a\"], [0.8888888888888888, \"#fdca26\"], [1.0, \"#f0f921\"]], \"type\": \"heatmap\"}], \"heatmapgl\": [{\"colorbar\": {\"outlinewidth\": 0, \"ticks\": \"\"}, \"colorscale\": [[0.0, \"#0d0887\"], [0.1111111111111111, \"#46039f\"], [0.2222222222222222, \"#7201a8\"], [0.3333333333333333, \"#9c179e\"], [0.4444444444444444, \"#bd3786\"], [0.5555555555555556, \"#d8576b\"], [0.6666666666666666, \"#ed7953\"], [0.7777777777777778, \"#fb9f3a\"], [0.8888888888888888, \"#fdca26\"], [1.0, \"#f0f921\"]], \"type\": \"heatmapgl\"}], \"histogram\": [{\"marker\": {\"colorbar\": {\"outlinewidth\": 0, \"ticks\": \"\"}}, \"type\": \"histogram\"}], \"histogram2d\": [{\"colorbar\": {\"outlinewidth\": 0, \"ticks\": \"\"}, \"colorscale\": [[0.0, \"#0d0887\"], [0.1111111111111111, \"#46039f\"], [0.2222222222222222, \"#7201a8\"], [0.3333333333333333, \"#9c179e\"], [0.4444444444444444, \"#bd3786\"], [0.5555555555555556, \"#d8576b\"], [0.6666666666666666, \"#ed7953\"], [0.7777777777777778, \"#fb9f3a\"], [0.8888888888888888, \"#fdca26\"], [1.0, \"#f0f921\"]], \"type\": \"histogram2d\"}], \"histogram2dcontour\": [{\"colorbar\": {\"outlinewidth\": 0, \"ticks\": \"\"}, \"colorscale\": [[0.0, \"#0d0887\"], [0.1111111111111111, \"#46039f\"], [0.2222222222222222, \"#7201a8\"], [0.3333333333333333, \"#9c179e\"], [0.4444444444444444, \"#bd3786\"], [0.5555555555555556, \"#d8576b\"], [0.6666666666666666, \"#ed7953\"], [0.7777777777777778, \"#fb9f3a\"], [0.8888888888888888, \"#fdca26\"], [1.0, \"#f0f921\"]], \"type\": \"histogram2dcontour\"}], \"mesh3d\": [{\"colorbar\": {\"outlinewidth\": 0, \"ticks\": \"\"}, \"type\": \"mesh3d\"}], \"parcoords\": [{\"line\": {\"colorbar\": {\"outlinewidth\": 0, \"ticks\": \"\"}}, \"type\": \"parcoords\"}], \"pie\": [{\"automargin\": true, \"type\": \"pie\"}], \"scatter\": [{\"marker\": {\"colorbar\": {\"outlinewidth\": 0, \"ticks\": \"\"}}, \"type\": \"scatter\"}], \"scatter3d\": [{\"line\": {\"colorbar\": {\"outlinewidth\": 0, \"ticks\": \"\"}}, \"marker\": {\"colorbar\": {\"outlinewidth\": 0, \"ticks\": \"\"}}, \"type\": \"scatter3d\"}], \"scattercarpet\": [{\"marker\": {\"colorbar\": {\"outlinewidth\": 0, \"ticks\": \"\"}}, \"type\": \"scattercarpet\"}], \"scattergeo\": [{\"marker\": {\"colorbar\": {\"outlinewidth\": 0, \"ticks\": \"\"}}, \"type\": \"scattergeo\"}], \"scattergl\": [{\"marker\": {\"colorbar\": {\"outlinewidth\": 0, \"ticks\": \"\"}}, \"type\": \"scattergl\"}], \"scattermapbox\": [{\"marker\": {\"colorbar\": {\"outlinewidth\": 0, \"ticks\": \"\"}}, \"type\": \"scattermapbox\"}], \"scatterpolar\": [{\"marker\": {\"colorbar\": {\"outlinewidth\": 0, \"ticks\": \"\"}}, \"type\": \"scatterpolar\"}], \"scatterpolargl\": [{\"marker\": {\"colorbar\": {\"outlinewidth\": 0, \"ticks\": \"\"}}, \"type\": \"scatterpolargl\"}], \"scatterternary\": [{\"marker\": {\"colorbar\": {\"outlinewidth\": 0, \"ticks\": \"\"}}, \"type\": \"scatterternary\"}], \"surface\": [{\"colorbar\": {\"outlinewidth\": 0, \"ticks\": \"\"}, \"colorscale\": [[0.0, \"#0d0887\"], [0.1111111111111111, \"#46039f\"], [0.2222222222222222, \"#7201a8\"], [0.3333333333333333, \"#9c179e\"], [0.4444444444444444, \"#bd3786\"], [0.5555555555555556, \"#d8576b\"], [0.6666666666666666, \"#ed7953\"], [0.7777777777777778, \"#fb9f3a\"], [0.8888888888888888, \"#fdca26\"], [1.0, \"#f0f921\"]], \"type\": \"surface\"}], \"table\": [{\"cells\": {\"fill\": {\"color\": \"#EBF0F8\"}, \"line\": {\"color\": \"white\"}}, \"header\": {\"fill\": {\"color\": \"#C8D4E3\"}, \"line\": {\"color\": \"white\"}}, \"type\": \"table\"}]}, \"layout\": {\"annotationdefaults\": {\"arrowcolor\": \"#2a3f5f\", \"arrowhead\": 0, \"arrowwidth\": 1}, \"coloraxis\": {\"colorbar\": {\"outlinewidth\": 0, \"ticks\": \"\"}}, \"colorscale\": {\"diverging\": [[0, \"#8e0152\"], [0.1, \"#c51b7d\"], [0.2, \"#de77ae\"], [0.3, \"#f1b6da\"], [0.4, \"#fde0ef\"], [0.5, \"#f7f7f7\"], [0.6, \"#e6f5d0\"], [0.7, \"#b8e186\"], [0.8, \"#7fbc41\"], [0.9, \"#4d9221\"], [1, \"#276419\"]], \"sequential\": [[0.0, \"#0d0887\"], [0.1111111111111111, \"#46039f\"], [0.2222222222222222, \"#7201a8\"], [0.3333333333333333, \"#9c179e\"], [0.4444444444444444, \"#bd3786\"], [0.5555555555555556, \"#d8576b\"], [0.6666666666666666, \"#ed7953\"], [0.7777777777777778, \"#fb9f3a\"], [0.8888888888888888, \"#fdca26\"], [1.0, \"#f0f921\"]], \"sequentialminus\": [[0.0, \"#0d0887\"], [0.1111111111111111, \"#46039f\"], [0.2222222222222222, \"#7201a8\"], [0.3333333333333333, \"#9c179e\"], [0.4444444444444444, \"#bd3786\"], [0.5555555555555556, \"#d8576b\"], [0.6666666666666666, \"#ed7953\"], [0.7777777777777778, \"#fb9f3a\"], [0.8888888888888888, \"#fdca26\"], [1.0, \"#f0f921\"]]}, \"colorway\": [\"#636efa\", \"#EF553B\", \"#00cc96\", \"#ab63fa\", \"#FFA15A\", \"#19d3f3\", \"#FF6692\", \"#B6E880\", \"#FF97FF\", \"#FECB52\"], \"font\": {\"color\": \"#2a3f5f\"}, \"geo\": {\"bgcolor\": \"white\", \"lakecolor\": \"white\", \"landcolor\": \"#E5ECF6\", \"showlakes\": true, \"showland\": true, \"subunitcolor\": \"white\"}, \"hoverlabel\": {\"align\": \"left\"}, \"hovermode\": \"closest\", \"mapbox\": {\"style\": \"light\"}, \"paper_bgcolor\": \"white\", \"plot_bgcolor\": \"#E5ECF6\", \"polar\": {\"angularaxis\": {\"gridcolor\": \"white\", \"linecolor\": \"white\", \"ticks\": \"\"}, \"bgcolor\": \"#E5ECF6\", \"radialaxis\": {\"gridcolor\": \"white\", \"linecolor\": \"white\", \"ticks\": \"\"}}, \"scene\": {\"xaxis\": {\"backgroundcolor\": \"#E5ECF6\", \"gridcolor\": \"white\", \"gridwidth\": 2, \"linecolor\": \"white\", \"showbackground\": true, \"ticks\": \"\", \"zerolinecolor\": \"white\"}, \"yaxis\": {\"backgroundcolor\": \"#E5ECF6\", \"gridcolor\": \"white\", \"gridwidth\": 2, \"linecolor\": \"white\", \"showbackground\": true, \"ticks\": \"\", \"zerolinecolor\": \"white\"}, \"zaxis\": {\"backgroundcolor\": \"#E5ECF6\", \"gridcolor\": \"white\", \"gridwidth\": 2, \"linecolor\": \"white\", \"showbackground\": true, \"ticks\": \"\", \"zerolinecolor\": \"white\"}}, \"shapedefaults\": {\"line\": {\"color\": \"#2a3f5f\"}}, \"ternary\": {\"aaxis\": {\"gridcolor\": \"white\", \"linecolor\": \"white\", \"ticks\": \"\"}, \"baxis\": {\"gridcolor\": \"white\", \"linecolor\": \"white\", \"ticks\": \"\"}, \"bgcolor\": \"#E5ECF6\", \"caxis\": {\"gridcolor\": \"white\", \"linecolor\": \"white\", \"ticks\": \"\"}}, \"title\": {\"x\": 0.05}, \"xaxis\": {\"automargin\": true, \"gridcolor\": \"white\", \"linecolor\": \"white\", \"ticks\": \"\", \"title\": {\"standoff\": 15}, \"zerolinecolor\": \"white\", \"zerolinewidth\": 2}, \"yaxis\": {\"automargin\": true, \"gridcolor\": \"white\", \"linecolor\": \"white\", \"ticks\": \"\", \"title\": {\"standoff\": 15}, \"zerolinecolor\": \"white\", \"zerolinewidth\": 2}}}},\n",
       "                        {\"responsive\": true}\n",
       "                    ).then(function(){\n",
       "                            \n",
       "var gd = document.getElementById('94f98f02-e40f-46b1-97d7-40d6c4775ae9');\n",
       "var x = new MutationObserver(function (mutations, observer) {{\n",
       "        var display = window.getComputedStyle(gd).display;\n",
       "        if (!display || display === 'none') {{\n",
       "            console.log([gd, 'removed!']);\n",
       "            Plotly.purge(gd);\n",
       "            observer.disconnect();\n",
       "        }}\n",
       "}});\n",
       "\n",
       "// Listen for the removal of the full notebook cells\n",
       "var notebookContainer = gd.closest('#notebook-container');\n",
       "if (notebookContainer) {{\n",
       "    x.observe(notebookContainer, {childList: true});\n",
       "}}\n",
       "\n",
       "// Listen for the clearing of the current output cell\n",
       "var outputEl = gd.closest('.output');\n",
       "if (outputEl) {{\n",
       "    x.observe(outputEl, {childList: true});\n",
       "}}\n",
       "\n",
       "                        })\n",
       "                };\n",
       "                });\n",
       "            </script>\n",
       "        </div>"
      ]
     },
     "metadata": {},
     "output_type": "display_data"
    }
   ],
   "source": [
    "import plotly.express as px\n",
    "\n",
    "fig = px.parallel_coordinates(df_clustered[['Drug', 'Non Violent Other', 'Theft', 'Traffic', 'Violent','Population','Cluster']], color=\"Cluster\", labels={\"Cluster\": \"Cluster\",\n",
    "                \"Drug\": \"Drug\", \"Non Violent Other\": \"Non Violent Other\",\"Theft\": \"Theft\", \"Traffic\": \"Traffic\",\n",
    "                 \"Violent\": \"Violent\", \"Population\":\"Population\",},\n",
    "                             color_continuous_scale=px.colors.diverging.Tealrose,\n",
    "                             color_continuous_midpoint=2)\n",
    "fig.show()"
   ]
  },
  {
   "cell_type": "code",
   "execution_count": null,
   "metadata": {},
   "outputs": [],
   "source": []
  },
  {
   "cell_type": "code",
   "execution_count": null,
   "metadata": {},
   "outputs": [],
   "source": []
  },
  {
   "cell_type": "code",
   "execution_count": null,
   "metadata": {},
   "outputs": [],
   "source": []
  },
  {
   "cell_type": "code",
   "execution_count": null,
   "metadata": {},
   "outputs": [],
   "source": []
  },
  {
   "cell_type": "code",
   "execution_count": null,
   "metadata": {},
   "outputs": [],
   "source": []
  }
 ],
 "metadata": {
  "kernelspec": {
   "display_name": "Python 3",
   "language": "python",
   "name": "python3"
  },
  "language_info": {
   "codemirror_mode": {
    "name": "ipython",
    "version": 3
   },
   "file_extension": ".py",
   "mimetype": "text/x-python",
   "name": "python",
   "nbconvert_exporter": "python",
   "pygments_lexer": "ipython3",
   "version": "3.7.6"
  }
 },
 "nbformat": 4,
 "nbformat_minor": 4
}
